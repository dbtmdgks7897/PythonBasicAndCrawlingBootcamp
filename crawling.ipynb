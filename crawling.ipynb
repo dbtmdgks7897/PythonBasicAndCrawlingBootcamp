{
 "cells": [
  {
   "cell_type": "code",
   "execution_count": 4,
   "metadata": {},
   "outputs": [
    {
     "name": "stdout",
     "output_type": "stream",
     "text": [
      "잔금대출에도 DTI 규제 적용 검토 | Daum 뉴스\n"
     ]
    }
   ],
   "source": [
    "import requests\n",
    "from bs4 import BeautifulSoup\n",
    "res = requests.get('http://v.media.daum.net/v/20170615203441266')\n",
    "soup = BeautifulSoup(res.content, 'html.parser')\n",
    "mydata = soup.find('title')\n",
    "print(mydata.get_text())"
   ]
  },
  {
   "cell_type": "markdown",
   "metadata": {},
   "source": [
    "# 크롤링 코드 패턴으로 익히기 1"
   ]
  },
  {
   "cell_type": "markdown",
   "metadata": {},
   "source": [
    "## 1. library import"
   ]
  },
  {
   "cell_type": "code",
   "execution_count": 3,
   "metadata": {},
   "outputs": [],
   "source": [
    "import requests\n",
    "from bs4 import BeautifulSoup # B가 대문자 -> 클래스"
   ]
  },
  {
   "cell_type": "markdown",
   "metadata": {},
   "source": [
    "## 2. 웹페이지 가져오기"
   ]
  },
  {
   "cell_type": "code",
   "execution_count": 4,
   "metadata": {
    "scrolled": true
   },
   "outputs": [],
   "source": [
    "res = requests.get('https://news.v.daum.net/v/20170615203441266')"
   ]
  },
  {
   "cell_type": "markdown",
   "metadata": {},
   "source": [
    "# 크롤링 코드 패턴으로 익히기 2"
   ]
  },
  {
   "cell_type": "code",
   "execution_count": 5,
   "metadata": {
    "scrolled": false
   },
   "outputs": [],
   "source": [
    "res = requests.get('https://news.v.daum.net/v/20170615203441266')"
   ]
  },
  {
   "cell_type": "markdown",
   "metadata": {},
   "source": [
    "## 3. 웹페이지 파싱하기"
   ]
  },
  {
   "cell_type": "code",
   "execution_count": 11,
   "metadata": {},
   "outputs": [],
   "source": [
    "soup = BeautifulSoup(res.content, 'html.parser')"
   ]
  },
  {
   "cell_type": "markdown",
   "metadata": {},
   "source": [
    "## 4. 필요한 데이터 추출하기"
   ]
  },
  {
   "cell_type": "code",
   "execution_count": 16,
   "metadata": {},
   "outputs": [],
   "source": [
    "mydata = soup.find('h3')"
   ]
  },
  {
   "cell_type": "code",
   "execution_count": 17,
   "metadata": {},
   "outputs": [
    {
     "data": {
      "text/plain": [
       "'잔금대출에도 DTI 규제 적용 검토'"
      ]
     },
     "execution_count": 17,
     "metadata": {},
     "output_type": "execute_result"
    }
   ],
   "source": [
    "mydata.get_text()"
   ]
  },
  {
   "cell_type": "markdown",
   "metadata": {},
   "source": [
    "# HTML 이해를 바탕으로 크롤링하기"
   ]
  },
  {
   "cell_type": "code",
   "execution_count": 21,
   "metadata": {},
   "outputs": [
    {
     "name": "stdout",
     "output_type": "stream",
     "text": [
      "벤\n",
      "벤\n"
     ]
    }
   ],
   "source": [
    "import requests\n",
    "from bs4 import BeautifulSoup\n",
    "res = requests.get('https://people.search.naver.com/search.naver?where=nexearch&query=%EB%B2%A4&sm=tab_etc&ie=utf8&key=PeopleService&os=189493')\n",
    "soup = BeautifulSoup(res.content, 'html.parser')\n",
    "data = soup.find('strong')\n",
    "print(data.get_text())\n",
    "print(data.string)"
   ]
  },
  {
   "cell_type": "code",
   "execution_count": 26,
   "metadata": {},
   "outputs": [
    {
     "name": "stdout",
     "output_type": "stream",
     "text": [
      "<h1 id=\"title\">[1]크롤링이란?</h1>\n",
      "[1]크롤링이란?\n",
      "[1]크롤링이란?\n"
     ]
    }
   ],
   "source": [
    "from bs4 import BeautifulSoup\n",
    "html = \"\"\"\n",
    "<html>\n",
    "    <body>\n",
    "        <h1 id='title'>[1]크롤링이란?</h1>\n",
    "        <p class='cssstyle'>웹페이지에서 필요한 데이터를 추출하는 것</p>\n",
    "        <p id='body' align='center'>파이썬을 중심으로 다양한 웹크롤링 기술 발달</p>\n",
    "    </body>\n",
    "</html>\n",
    "\"\"\"\n",
    "soup = BeautifulSoup(html, \"html.parser\") # 태 그 로 검 색 방 법\n",
    "data = soup.find('h1')\n",
    "print(data)\n",
    "print(data.string)\n",
    "print(data.get_text()) "
   ]
  },
  {
   "cell_type": "code",
   "execution_count": 33,
   "metadata": {},
   "outputs": [
    {
     "name": "stdout",
     "output_type": "stream",
     "text": [
      "<p class=\"cssstyle\">웹페이지에서 필요한 데이터를 추출하는 것</p>\n",
      "\n",
      "<p class=\"cssstyle\">웹페이지에서 필요한 데이터를 추출하는 것</p>\n",
      "\n",
      "<p align=\"center\" id=\"body\">파이썬을 중심으로 다양한 웹크롤링 기술 발달</p>\n",
      "\n",
      "<p class=\"cssstyle\">웹페이지에서 필요한 데이터를 추출하는 것</p>\n",
      "\n",
      "<p align=\"center\" id=\"body\">파이썬을 중심으로 다양한 웹크롤링 기술 발달</p>\n"
     ]
    }
   ],
   "source": [
    "data = soup.find('p', class_='cssstyle')\n",
    "print(data)\n",
    "print()\n",
    "data = soup.find('p', 'cssstyle') # class로 인식\n",
    "print(data)\n",
    "print()\n",
    "data = soup.find('p', attrs = {'align': 'center'})\n",
    "print(data)\n",
    "print()\n",
    "data = soup.find('p', attrs = {'class' : 'cssstyle'})\n",
    "print(data)\n",
    "print()\n",
    "data = soup.find(id = 'body')\n",
    "print(data)"
   ]
  },
  {
   "cell_type": "code",
   "execution_count": 34,
   "metadata": {},
   "outputs": [
    {
     "name": "stdout",
     "output_type": "stream",
     "text": [
      "웹페이지에서 필요한 데이터를 추출하는 것\n",
      "파이썬을 중심으로 다양한 웹크롤링 기술 발달\n"
     ]
    }
   ],
   "source": [
    "data = soup.find_all('p')\n",
    "for i in data:\n",
    "    print(i.string)"
   ]
  },
  {
   "cell_type": "code",
   "execution_count": 41,
   "metadata": {},
   "outputs": [
    {
     "name": "stdout",
     "output_type": "stream",
     "text": [
      "KR\n"
     ]
    }
   ],
   "source": [
    "import requests\n",
    "from bs4 import BeautifulSoup\n",
    "res = requests.get('https://www.youtube.com/watch?v=jMl1egI6lsM')\n",
    "soup = BeautifulSoup(res.content, 'html.parser')\n",
    "data = soup.find('a')\n",
    "print(data.get_text())"
   ]
  },
  {
   "cell_type": "markdown",
   "metadata": {},
   "source": [
    "# HTML/CSS 이해를 바탕으로 크롤링하기"
   ]
  },
  {
   "cell_type": "code",
   "execution_count": 22,
   "metadata": {},
   "outputs": [
    {
     "name": "stdout",
     "output_type": "stream",
     "text": [
      "호텔 델루나 OST Part 9\n",
      "헤어져줘서 고마워\n",
      "[Vol.5] 유희열의 스케치북 10주년 프로젝트 : 두 번째 목소리 '유스케 X 벤'\n",
      "[Vol.4] 유희열의 스케치북 10주년 프로젝트 : 두 번째 목소리 '유스케 X 벤'\n",
      "180˚\n"
     ]
    },
    {
     "data": {
      "text/plain": [
       "'헤어져줘서 고마워'"
      ]
     },
     "execution_count": 22,
     "metadata": {},
     "output_type": "execute_result"
    }
   ],
   "source": [
    "import requests\n",
    "from bs4 import BeautifulSoup\n",
    "res = requests.get('https://people.search.naver.com/search.naver?where=nexearch&query=%EB%B2%A4&sm=tab_etc&ie=utf8&key=PeopleService&os=189493')\n",
    "soup = BeautifulSoup(res.content, 'html.parser')\n",
    "\n",
    "data1 = soup.find_all('span','tit_main')\n",
    "for item in data1:\n",
    "    print(item.get_text())\n",
    "data1[1].get_text()"
   ]
  },
  {
   "cell_type": "markdown",
   "metadata": {},
   "source": [
    "## 크롤링 후처리\n",
    "* \\n, 불필요한 데이터 삭제, 깔끔하게 문자열 정리"
   ]
  },
  {
   "cell_type": "code",
   "execution_count": 23,
   "metadata": {},
   "outputs": [
    {
     "ename": "AttributeError",
     "evalue": "'NoneType' object has no attribute 'get_text'",
     "output_type": "error",
     "traceback": [
      "\u001b[1;31m---------------------------------------------------------------------------\u001b[0m",
      "\u001b[1;31mAttributeError\u001b[0m                            Traceback (most recent call last)",
      "\u001b[1;32m<ipython-input-23-c6b92dcc18ea>\u001b[0m in \u001b[0;36m<module>\u001b[1;34m\u001b[0m\n\u001b[0;32m      1\u001b[0m \u001b[0mdata\u001b[0m \u001b[1;33m=\u001b[0m \u001b[0msoup\u001b[0m\u001b[1;33m.\u001b[0m\u001b[0mfind\u001b[0m\u001b[1;33m(\u001b[0m\u001b[1;34m'h3'\u001b[0m\u001b[1;33m,\u001b[0m \u001b[1;34m'tit_view'\u001b[0m\u001b[1;33m)\u001b[0m\u001b[1;33m\u001b[0m\u001b[1;33m\u001b[0m\u001b[0m\n\u001b[1;32m----> 2\u001b[1;33m \u001b[0mprint\u001b[0m\u001b[1;33m(\u001b[0m\u001b[0mdata\u001b[0m\u001b[1;33m.\u001b[0m\u001b[0mget_text\u001b[0m\u001b[1;33m(\u001b[0m\u001b[1;33m)\u001b[0m\u001b[1;33m)\u001b[0m\u001b[1;33m\u001b[0m\u001b[1;33m\u001b[0m\u001b[0m\n\u001b[0m",
      "\u001b[1;31mAttributeError\u001b[0m: 'NoneType' object has no attribute 'get_text'"
     ]
    }
   ],
   "source": [
    "data = soup.find('h3', 'tit_view')\n",
    "print(data.get_text())\n",
    "data = soup.find('span', 'txt_info')\n",
    "print(data.get_text())\n",
    "data = soup.find_all('span', 'txt_info')\n",
    "for item in data:\n",
    "    print(item.get_text())\n",
    "print(data.get_text())\n",
    "data = soup.find_all('span', 'txt_info')\n",
    "print(data[1].get_text())\n",
    "data = soup.find('div', 'layer_util layer_summary')\n",
    "print(data.get_text())"
   ]
  },
  {
   "cell_type": "markdown",
   "metadata": {},
   "source": [
    "# 다음 사이트 크롤링"
   ]
  },
  {
   "cell_type": "code",
   "execution_count": 27,
   "metadata": {},
   "outputs": [
    {
     "name": "stdout",
     "output_type": "stream",
     "text": [
      "여상규 욕설\n",
      "조국수호검찰개혁\n",
      "조국 구속\n",
      "천호동대창쭈꾸미\n",
      "강지환\n",
      "유재수\n",
      "김성환\n",
      "차우찬\n",
      "이선호\n",
      "서건창\n"
     ]
    }
   ],
   "source": [
    "import requests\n",
    "from bs4 import BeautifulSoup\n",
    "\n",
    "res = requests.get('https://www.daum.net')\n",
    "soup = BeautifulSoup(res.content,'html.parser')\n",
    "\n",
    "data = soup.find_all('a', attrs ={'class' : 'link_issue', 'tabindex':'-1'})\n",
    "for i in data:\n",
    "    print(i.get_text())"
   ]
  },
  {
   "cell_type": "markdown",
   "metadata": {},
   "source": [
    "# 네이버 사이트 크롤링"
   ]
  },
  {
   "cell_type": "code",
   "execution_count": 52,
   "metadata": {
    "scrolled": true
   },
   "outputs": [
    {
     "name": "stdout",
     "output_type": "stream",
     "text": [
      "1 위 : 조국 구속\n",
      "2 위 : 여상규\n",
      "3 위 : 프리바이오틱스\n",
      "4 위 : 나나랜드\n",
      "5 위 : 천호동 대창쭈꾸미\n",
      "6 위 : 안달로우 1만명 이벤트\n",
      "7 위 : 가갸날\n",
      "8 위 : 여상규 욕설\n",
      "9 위 : 임태경\n",
      "10 위 : 차우찬\n",
      "11 위 : 어뜨무러차\n",
      "12 위 : 오정연\n",
      "13 위 : 안우진\n",
      "14 위 : 황석영\n",
      "15 위 : 삼성 채용\n",
      "16 위 : kb스타뱅킹 축하금\n",
      "17 위 : 강지환\n",
      "18 위 : 조세흠\n",
      "19 위 : 타인은 지옥이다 결말\n",
      "20 위 : 리틀빅히어로\n"
     ]
    }
   ],
   "source": [
    "import requests\n",
    "from bs4 import BeautifulSoup\n",
    "\n",
    "res = requests.get('https://www.naver.com')\n",
    "soup = BeautifulSoup(res.content, 'html.parser')\n",
    "\n",
    "data = soup.find('div', 'ah_roll_area PM_CL_realtimeKeyword_rolling')\n",
    "rank_item = data.find_all('li','ah_item')                                  # 추출한 곳에서 또 추출하기\n",
    "rank_item = rank_item\n",
    "for i in rank_item:\n",
    "    out_data = i.get_text().split('\\n')\n",
    "    print(out_data[2] + \" 위 : \" + out_data[3])                            # 문자열 함수와 같이 쓰기 "
   ]
  },
  {
   "cell_type": "markdown",
   "metadata": {},
   "source": [
    "# CSS selector 사용해서 크롤링하기 1"
   ]
  },
  {
   "cell_type": "code",
   "execution_count": 71,
   "metadata": {},
   "outputs": [
    {
     "name": "stdout",
     "output_type": "stream",
     "text": [
      "[<h3 class=\"tit_view\" data-translation=\"\">잔금대출에도 DTI 규제 적용 검토</h3>]\n"
     ]
    }
   ],
   "source": [
    "import requests\n",
    "from bs4 import BeautifulSoup\n",
    "\n",
    "res = requests.get('http://v.media.daum.net/v/20170615203441266')\n",
    "soup = BeautifulSoup(res.content, 'html.parser')\n",
    "\n",
    "data = soup.select('h3.tit_view')    # 무조건 리스트, .사용\n",
    "print(data)"
   ]
  },
  {
   "cell_type": "code",
   "execution_count": 70,
   "metadata": {},
   "outputs": [
    {
     "name": "stdout",
     "output_type": "stream",
     "text": [
      "[<div class=\"ah_roll_area PM_CL_realtimeKeyword_rolling\">\n",
      "<ul class=\"ah_l\">\n",
      "<li class=\"ah_item\">\n",
      "<a class=\"ah_a\" data-clk=\"lve.keyword\" href=\"#\">\n",
      "<span class=\"ah_r\">1</span>\n",
      "<span class=\"ah_k\">여상규</span>\n",
      "</a>\n",
      "</li>\n",
      "<li class=\"ah_item\">\n",
      "<a class=\"ah_a\" data-clk=\"lve.keyword\" href=\"#\">\n",
      "<span class=\"ah_r\">2</span>\n",
      "<span class=\"ah_k\">조국 구속</span>\n",
      "</a>\n",
      "</li>\n",
      "<li class=\"ah_item\">\n",
      "<a class=\"ah_a\" data-clk=\"lve.keyword\" href=\"#\">\n",
      "<span class=\"ah_r\">3</span>\n",
      "<span class=\"ah_k\">골수검사</span>\n",
      "</a>\n",
      "</li>\n",
      "<li class=\"ah_item\">\n",
      "<a class=\"ah_a\" data-clk=\"lve.keyword\" href=\"#\">\n",
      "<span class=\"ah_r\">4</span>\n",
      "<span class=\"ah_k\">케빈 나</span>\n",
      "</a>\n",
      "</li>\n",
      "<li class=\"ah_item\">\n",
      "<a class=\"ah_a\" data-clk=\"lve.keyword\" href=\"#\">\n",
      "<span class=\"ah_r\">5</span>\n",
      "<span class=\"ah_k\">차우찬</span>\n",
      "</a>\n",
      "</li>\n",
      "<li class=\"ah_item\">\n",
      "<a class=\"ah_a\" data-clk=\"lve.keyword\" href=\"#\">\n",
      "<span class=\"ah_r\">6</span>\n",
      "<span class=\"ah_k\">가갸날</span>\n",
      "</a>\n",
      "</li>\n",
      "<li class=\"ah_item\">\n",
      "<a class=\"ah_a\" data-clk=\"lve.keyword\" href=\"#\">\n",
      "<span class=\"ah_r\">7</span>\n",
      "<span class=\"ah_k\">오정연</span>\n",
      "</a>\n",
      "</li>\n",
      "<li class=\"ah_item\">\n",
      "<a class=\"ah_a\" data-clk=\"lve.keyword\" href=\"#\">\n",
      "<span class=\"ah_r\">8</span>\n",
      "<span class=\"ah_k\">여상규 욕설</span>\n",
      "</a>\n",
      "</li>\n",
      "<li class=\"ah_item\">\n",
      "<a class=\"ah_a\" data-clk=\"lve.keyword\" href=\"#\">\n",
      "<span class=\"ah_r\">9</span>\n",
      "<span class=\"ah_k\">박소영</span>\n",
      "</a>\n",
      "</li>\n",
      "<li class=\"ah_item\">\n",
      "<a class=\"ah_a\" data-clk=\"lve.keyword\" href=\"#\">\n",
      "<span class=\"ah_r\">10</span>\n",
      "<span class=\"ah_k\">임태경</span>\n",
      "</a>\n",
      "</li>\n",
      "<li class=\"ah_item\">\n",
      "<a class=\"ah_a\" data-clk=\"lve.keyword\" href=\"#\">\n",
      "<span class=\"ah_r\">11</span>\n",
      "<span class=\"ah_k\">우리말겨루기</span>\n",
      "</a>\n",
      "</li>\n",
      "<li class=\"ah_item\">\n",
      "<a class=\"ah_a\" data-clk=\"lve.keyword\" href=\"#\">\n",
      "<span class=\"ah_r\">12</span>\n",
      "<span class=\"ah_k\">치렀다 치뤘다</span>\n",
      "</a>\n",
      "</li>\n",
      "<li class=\"ah_item\">\n",
      "<a class=\"ah_a\" data-clk=\"lve.keyword\" href=\"#\">\n",
      "<span class=\"ah_r\">13</span>\n",
      "<span class=\"ah_k\">황석영</span>\n",
      "</a>\n",
      "</li>\n",
      "<li class=\"ah_item\">\n",
      "<a class=\"ah_a\" data-clk=\"lve.keyword\" href=\"#\">\n",
      "<span class=\"ah_r\">14</span>\n",
      "<span class=\"ah_k\">김웅빈</span>\n",
      "</a>\n",
      "</li>\n",
      "<li class=\"ah_item\">\n",
      "<a class=\"ah_a\" data-clk=\"lve.keyword\" href=\"#\">\n",
      "<span class=\"ah_r\">15</span>\n",
      "<span class=\"ah_k\">타인은 지옥이다 결말</span>\n",
      "</a>\n",
      "</li>\n",
      "<li class=\"ah_item\">\n",
      "<a class=\"ah_a\" data-clk=\"lve.keyword\" href=\"#\">\n",
      "<span class=\"ah_r\">16</span>\n",
      "<span class=\"ah_k\">kb스타뱅킹 축하금</span>\n",
      "</a>\n",
      "</li>\n",
      "<li class=\"ah_item\">\n",
      "<a class=\"ah_a\" data-clk=\"lve.keyword\" href=\"#\">\n",
      "<span class=\"ah_r\">17</span>\n",
      "<span class=\"ah_k\">타다</span>\n",
      "</a>\n",
      "</li>\n",
      "<li class=\"ah_item\">\n",
      "<a class=\"ah_a\" data-clk=\"lve.keyword\" href=\"#\">\n",
      "<span class=\"ah_r\">18</span>\n",
      "<span class=\"ah_k\">조세흠</span>\n",
      "</a>\n",
      "</li>\n",
      "<li class=\"ah_item\">\n",
      "<a class=\"ah_a\" data-clk=\"lve.keyword\" href=\"#\">\n",
      "<span class=\"ah_r\">19</span>\n",
      "<span class=\"ah_k\">월요일예능</span>\n",
      "</a>\n",
      "</li>\n",
      "<li class=\"ah_item\">\n",
      "<a class=\"ah_a\" data-clk=\"lve.keyword\" href=\"#\">\n",
      "<span class=\"ah_r\">20</span>\n",
      "<span class=\"ah_k\">한국 스리랑카</span>\n",
      "</a>\n",
      "</li>\n",
      "</ul>\n",
      "</div>]\n"
     ]
    }
   ],
   "source": [
    "res = requests.get('https://www.naver.com')\n",
    "soup = BeautifulSoup(res.content, 'html.parser')\n",
    "data = soup.select('div.ah_roll_area.PM_CL_realtimeKeyword_rolling')\n",
    "print(data)"
   ]
  },
  {
   "cell_type": "markdown",
   "metadata": {},
   "source": [
    "1. select() 사용. 결과값은 리스트\n",
    "2. CSS Selector 로 html 데이터를 선택할 때\n",
    "    - tag 이름으로 선택가능 - select('h3')\n",
    "    - tag + class 이름으로 선택 가능 - select(\"h3.tit_view\")\n",
    "    - tag + multiple class 이름으로도 선택 가능 = select('div.ah_roll_area.PM_CL_realtimeKeyword_rolling')\n",
    "3. CSS Selector 팁\n",
    "    - 개발자 모드에서 Copy selector 참조"
   ]
  },
  {
   "cell_type": "markdown",
   "metadata": {},
   "source": [
    "# CSS selector 사용해서 크롤링하기 2"
   ]
  },
  {
   "cell_type": "code",
   "execution_count": 79,
   "metadata": {},
   "outputs": [
    {
     "name": "stdout",
     "output_type": "stream",
     "text": [
      "\n",
      "\n",
      "\n",
      "\n",
      "1\n",
      "여상규\n",
      "\n",
      "\n",
      "\n",
      "\n",
      "2\n",
      "백혈병\n",
      "\n",
      "\n",
      "\n",
      "\n",
      "3\n",
      "조국 구속\n",
      "\n",
      "\n",
      "\n",
      "\n",
      "4\n",
      "골수검사\n",
      "\n",
      "\n",
      "\n",
      "\n",
      "5\n",
      "급성 림프구성 백혈병\n",
      "\n",
      "\n",
      "\n",
      "\n",
      "6\n",
      "서산만두달인\n",
      "\n",
      "\n",
      "\n",
      "\n",
      "7\n",
      "급성림프성 백혈병\n",
      "\n",
      "\n",
      "\n",
      "\n",
      "8\n",
      "서산만두\n",
      "\n",
      "\n",
      "\n",
      "\n",
      "9\n",
      "케빈 나\n",
      "\n",
      "\n",
      "\n",
      "\n",
      "10\n",
      "김남준\n",
      "\n",
      "\n",
      "\n",
      "\n",
      "11\n",
      "백혈병 초기증상\n",
      "\n",
      "\n",
      "\n",
      "\n",
      "12\n",
      "차우찬\n",
      "\n",
      "\n",
      "\n",
      "\n",
      "13\n",
      "서민갑부 한우\n",
      "\n",
      "\n",
      "\n",
      "\n",
      "14\n",
      "급성백혈병\n",
      "\n",
      "\n",
      "\n",
      "\n",
      "15\n",
      "여상규 욕설\n",
      "\n",
      "\n",
      "\n",
      "\n",
      "16\n",
      "박소영\n",
      "\n",
      "\n",
      "\n",
      "\n",
      "17\n",
      "구본혁\n",
      "\n",
      "\n",
      "\n",
      "\n",
      "18\n",
      "서산 향원만두\n",
      "\n",
      "\n",
      "\n",
      "\n",
      "19\n",
      "오정연\n",
      "\n",
      "\n",
      "\n",
      "\n",
      "20\n",
      "치렀다 치뤘다\n",
      "\n",
      "\n",
      "\n",
      "\n"
     ]
    }
   ],
   "source": [
    "import requests\n",
    "from bs4 import BeautifulSoup\n",
    "\n",
    "res = requests.get('https://www.naver.com')\n",
    "soup = BeautifulSoup(res.content, 'html.parser')\n",
    "data = soup.select('div.ah_roll_area.PM_CL_realtimeKeyword_rolling')\n",
    "for i in data:\n",
    "    print(i.get_text())"
   ]
  },
  {
   "cell_type": "code",
   "execution_count": 81,
   "metadata": {},
   "outputs": [
    {
     "name": "stdout",
     "output_type": "stream",
     "text": [
      "\n",
      "\n",
      "\n",
      "\n",
      "1\n",
      "여상규\n",
      "\n",
      "\n",
      "\n",
      "\n",
      "2\n",
      "백혈병\n",
      "\n",
      "\n",
      "\n",
      "\n",
      "3\n",
      "조국 구속\n",
      "\n",
      "\n",
      "\n",
      "\n",
      "4\n",
      "골수검사\n",
      "\n",
      "\n",
      "\n",
      "\n",
      "5\n",
      "급성 림프구성 백혈병\n",
      "\n",
      "\n",
      "\n",
      "\n",
      "6\n",
      "서산만두달인\n",
      "\n",
      "\n",
      "\n",
      "\n",
      "7\n",
      "급성림프성 백혈병\n",
      "\n",
      "\n",
      "\n",
      "\n",
      "8\n",
      "서산만두\n",
      "\n",
      "\n",
      "\n",
      "\n",
      "9\n",
      "케빈 나\n",
      "\n",
      "\n",
      "\n",
      "\n",
      "10\n",
      "김남준\n",
      "\n",
      "\n",
      "\n",
      "\n",
      "11\n",
      "백혈병 초기증상\n",
      "\n",
      "\n",
      "\n",
      "\n",
      "12\n",
      "차우찬\n",
      "\n",
      "\n",
      "\n",
      "\n",
      "13\n",
      "서민갑부 한우\n",
      "\n",
      "\n",
      "\n",
      "\n",
      "14\n",
      "급성백혈병\n",
      "\n",
      "\n",
      "\n",
      "\n",
      "15\n",
      "여상규 욕설\n",
      "\n",
      "\n",
      "\n",
      "\n",
      "16\n",
      "박소영\n",
      "\n",
      "\n",
      "\n",
      "\n",
      "17\n",
      "구본혁\n",
      "\n",
      "\n",
      "\n",
      "\n",
      "18\n",
      "서산 향원만두\n",
      "\n",
      "\n",
      "\n",
      "\n",
      "19\n",
      "오정연\n",
      "\n",
      "\n",
      "\n",
      "\n",
      "20\n",
      "치렀다 치뤘다\n",
      "\n",
      "\n",
      "\n",
      "\n"
     ]
    }
   ],
   "source": [
    "res = requests.get('https://www.naver.com')\n",
    "soup = BeautifulSoup(res.content, 'html.parser')\n",
    "data = soup.select('html div.ah_roll_area.PM_CL_realtimeKeyword_rolling')\n",
    "for i in data:\n",
    "    print(i.get_text())"
   ]
  },
  {
   "cell_type": "code",
   "execution_count": 83,
   "metadata": {},
   "outputs": [
    {
     "name": "stdout",
     "output_type": "stream",
     "text": [
      "[<title>잔금대출에도 DTI 규제 적용 검토 | Daum 뉴스</title>]\n",
      "[<title>잔금대출에도 DTI 규제 적용 검토 | Daum 뉴스</title>]\n",
      "[<title>잔금대출에도 DTI 규제 적용 검토 | Daum 뉴스</title>]\n"
     ]
    }
   ],
   "source": [
    "res = requests.get('http://v.media.daum.net/v/20170615203441266')\n",
    "soup = BeautifulSoup(res.content, 'html.parser')\n",
    "data = soup.select('html head title')\n",
    "print(data)\n",
    "\n",
    "data = soup.select('html title')\n",
    "print(data)\n",
    "\n",
    "data = soup.select('html > head > title')\n",
    "print(data)"
   ]
  },
  {
   "cell_type": "code",
   "execution_count": null,
   "metadata": {},
   "outputs": [],
   "source": []
  }
 ],
 "metadata": {
  "kernelspec": {
   "display_name": "Python 3",
   "language": "python",
   "name": "python3"
  },
  "language_info": {
   "codemirror_mode": {
    "name": "ipython",
    "version": 3
   },
   "file_extension": ".py",
   "mimetype": "text/x-python",
   "name": "python",
   "nbconvert_exporter": "python",
   "pygments_lexer": "ipython3",
   "version": "3.7.3"
  }
 },
 "nbformat": 4,
 "nbformat_minor": 2
}

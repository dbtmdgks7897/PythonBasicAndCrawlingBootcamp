{
 "cells": [
  {
   "cell_type": "code",
   "execution_count": 4,
   "metadata": {},
   "outputs": [
    {
     "name": "stdout",
     "output_type": "stream",
     "text": [
      "잔금대출에도 DTI 규제 적용 검토 | Daum 뉴스\n"
     ]
    }
   ],
   "source": [
    "import requests\n",
    "from bs4 import BeautifulSoup\n",
    "res = requests.get('http://v.media.daum.net/v/20170615203441266')\n",
    "soup = BeautifulSoup(res.content, 'html.parser')\n",
    "mydata = soup.find('title')\n",
    "print(mydata.get_text())"
   ]
  },
  {
   "cell_type": "markdown",
   "metadata": {},
   "source": [
    "# 크롤링 코드 패턴으로 익히기 1"
   ]
  },
  {
   "cell_type": "markdown",
   "metadata": {},
   "source": [
    "## 1. library import"
   ]
  },
  {
   "cell_type": "code",
   "execution_count": 3,
   "metadata": {},
   "outputs": [],
   "source": [
    "import requests\n",
    "from bs4 import BeautifulSoup # B가 대문자 -> 클래스"
   ]
  },
  {
   "cell_type": "markdown",
   "metadata": {},
   "source": [
    "## 2. 웹페이지 가져오기"
   ]
  },
  {
   "cell_type": "code",
   "execution_count": 4,
   "metadata": {
    "scrolled": true
   },
   "outputs": [],
   "source": [
    "res = requests.get('https://news.v.daum.net/v/20170615203441266')"
   ]
  },
  {
   "cell_type": "markdown",
   "metadata": {},
   "source": [
    "# 크롤링 코드 패턴으로 익히기 2"
   ]
  },
  {
   "cell_type": "code",
   "execution_count": 5,
   "metadata": {
    "scrolled": false
   },
   "outputs": [],
   "source": [
    "res = requests.get('https://news.v.daum.net/v/20170615203441266')"
   ]
  },
  {
   "cell_type": "markdown",
   "metadata": {},
   "source": [
    "## 3. 웹페이지 파싱하기"
   ]
  },
  {
   "cell_type": "code",
   "execution_count": 11,
   "metadata": {},
   "outputs": [],
   "source": [
    "soup = BeautifulSoup(res.content, 'html.parser')"
   ]
  },
  {
   "cell_type": "markdown",
   "metadata": {},
   "source": [
    "## 4. 필요한 데이터 추출하기"
   ]
  },
  {
   "cell_type": "code",
   "execution_count": 16,
   "metadata": {},
   "outputs": [],
   "source": [
    "mydata = soup.find('h3')"
   ]
  },
  {
   "cell_type": "code",
   "execution_count": 17,
   "metadata": {},
   "outputs": [
    {
     "data": {
      "text/plain": [
       "'잔금대출에도 DTI 규제 적용 검토'"
      ]
     },
     "execution_count": 17,
     "metadata": {},
     "output_type": "execute_result"
    }
   ],
   "source": [
    "mydata.get_text()"
   ]
  },
  {
   "cell_type": "markdown",
   "metadata": {},
   "source": [
    "# HTML 이해를 바탕으로 크롤링하기"
   ]
  },
  {
   "cell_type": "code",
   "execution_count": 21,
   "metadata": {},
   "outputs": [
    {
     "name": "stdout",
     "output_type": "stream",
     "text": [
      "벤\n",
      "벤\n"
     ]
    }
   ],
   "source": [
    "import requests\n",
    "from bs4 import BeautifulSoup\n",
    "res = requests.get('https://people.search.naver.com/search.naver?where=nexearch&query=%EB%B2%A4&sm=tab_etc&ie=utf8&key=PeopleService&os=189493')\n",
    "soup = BeautifulSoup(res.content, 'html.parser')\n",
    "data = soup.find('strong')\n",
    "print(data.get_text())\n",
    "print(data.string)"
   ]
  },
  {
   "cell_type": "code",
   "execution_count": 26,
   "metadata": {},
   "outputs": [
    {
     "name": "stdout",
     "output_type": "stream",
     "text": [
      "<h1 id=\"title\">[1]크롤링이란?</h1>\n",
      "[1]크롤링이란?\n",
      "[1]크롤링이란?\n"
     ]
    }
   ],
   "source": [
    "from bs4 import BeautifulSoup\n",
    "html = \"\"\"\n",
    "<html>\n",
    "    <body>\n",
    "        <h1 id='title'>[1]크롤링이란?</h1>\n",
    "        <p class='cssstyle'>웹페이지에서 필요한 데이터를 추출하는 것</p>\n",
    "        <p id='body' align='center'>파이썬을 중심으로 다양한 웹크롤링 기술 발달</p>\n",
    "    </body>\n",
    "</html>\n",
    "\"\"\"\n",
    "soup = BeautifulSoup(html, \"html.parser\") # 태 그 로 검 색 방 법\n",
    "data = soup.find('h1')\n",
    "print(data)\n",
    "print(data.string)\n",
    "print(data.get_text()) "
   ]
  },
  {
   "cell_type": "code",
   "execution_count": 33,
   "metadata": {},
   "outputs": [
    {
     "name": "stdout",
     "output_type": "stream",
     "text": [
      "<p class=\"cssstyle\">웹페이지에서 필요한 데이터를 추출하는 것</p>\n",
      "\n",
      "<p class=\"cssstyle\">웹페이지에서 필요한 데이터를 추출하는 것</p>\n",
      "\n",
      "<p align=\"center\" id=\"body\">파이썬을 중심으로 다양한 웹크롤링 기술 발달</p>\n",
      "\n",
      "<p class=\"cssstyle\">웹페이지에서 필요한 데이터를 추출하는 것</p>\n",
      "\n",
      "<p align=\"center\" id=\"body\">파이썬을 중심으로 다양한 웹크롤링 기술 발달</p>\n"
     ]
    }
   ],
   "source": [
    "data = soup.find('p', class_='cssstyle')\n",
    "print(data)\n",
    "print()\n",
    "data = soup.find('p', 'cssstyle') # class로 인식\n",
    "print(data)\n",
    "print()\n",
    "data = soup.find('p', attrs = {'align': 'center'})\n",
    "print(data)\n",
    "print()\n",
    "data = soup.find('p', attrs = {'class' : 'cssstyle'})\n",
    "print(data)\n",
    "print()\n",
    "data = soup.find(id = 'body')\n",
    "print(data)"
   ]
  },
  {
   "cell_type": "code",
   "execution_count": 34,
   "metadata": {},
   "outputs": [
    {
     "name": "stdout",
     "output_type": "stream",
     "text": [
      "웹페이지에서 필요한 데이터를 추출하는 것\n",
      "파이썬을 중심으로 다양한 웹크롤링 기술 발달\n"
     ]
    }
   ],
   "source": [
    "data = soup.find_all('p')\n",
    "for i in data:\n",
    "    print(i.string)"
   ]
  },
  {
   "cell_type": "code",
   "execution_count": 41,
   "metadata": {},
   "outputs": [
    {
     "name": "stdout",
     "output_type": "stream",
     "text": [
      "KR\n"
     ]
    }
   ],
   "source": [
    "import requests\n",
    "from bs4 import BeautifulSoup\n",
    "res = requests.get('https://www.youtube.com/watch?v=jMl1egI6lsM')\n",
    "soup = BeautifulSoup(res.content, 'html.parser')\n",
    "data = soup.find('a')\n",
    "print(data.get_text())"
   ]
  },
  {
   "cell_type": "markdown",
   "metadata": {},
   "source": [
    "# HTML/CSS 이해를 바탕으로 크롤링하기"
   ]
  },
  {
   "cell_type": "code",
   "execution_count": 22,
   "metadata": {},
   "outputs": [
    {
     "name": "stdout",
     "output_type": "stream",
     "text": [
      "호텔 델루나 OST Part 9\n",
      "헤어져줘서 고마워\n",
      "[Vol.5] 유희열의 스케치북 10주년 프로젝트 : 두 번째 목소리 '유스케 X 벤'\n",
      "[Vol.4] 유희열의 스케치북 10주년 프로젝트 : 두 번째 목소리 '유스케 X 벤'\n",
      "180˚\n"
     ]
    },
    {
     "data": {
      "text/plain": [
       "'헤어져줘서 고마워'"
      ]
     },
     "execution_count": 22,
     "metadata": {},
     "output_type": "execute_result"
    }
   ],
   "source": [
    "import requests\n",
    "from bs4 import BeautifulSoup\n",
    "res = requests.get('https://people.search.naver.com/search.naver?where=nexearch&query=%EB%B2%A4&sm=tab_etc&ie=utf8&key=PeopleService&os=189493')\n",
    "soup = BeautifulSoup(res.content, 'html.parser')\n",
    "\n",
    "data1 = soup.find_all('span','tit_main')\n",
    "for item in data1:\n",
    "    print(item.get_text())\n",
    "data1[1].get_text()"
   ]
  },
  {
   "cell_type": "markdown",
   "metadata": {},
   "source": [
    "## 크롤링 후처리\n",
    "* \\n, 불필요한 데이터 삭제, 깔끔하게 문자열 정리"
   ]
  },
  {
   "cell_type": "code",
   "execution_count": 23,
   "metadata": {},
   "outputs": [
    {
     "ename": "AttributeError",
     "evalue": "'NoneType' object has no attribute 'get_text'",
     "output_type": "error",
     "traceback": [
      "\u001b[1;31m---------------------------------------------------------------------------\u001b[0m",
      "\u001b[1;31mAttributeError\u001b[0m                            Traceback (most recent call last)",
      "\u001b[1;32m<ipython-input-23-c6b92dcc18ea>\u001b[0m in \u001b[0;36m<module>\u001b[1;34m\u001b[0m\n\u001b[0;32m      1\u001b[0m \u001b[0mdata\u001b[0m \u001b[1;33m=\u001b[0m \u001b[0msoup\u001b[0m\u001b[1;33m.\u001b[0m\u001b[0mfind\u001b[0m\u001b[1;33m(\u001b[0m\u001b[1;34m'h3'\u001b[0m\u001b[1;33m,\u001b[0m \u001b[1;34m'tit_view'\u001b[0m\u001b[1;33m)\u001b[0m\u001b[1;33m\u001b[0m\u001b[1;33m\u001b[0m\u001b[0m\n\u001b[1;32m----> 2\u001b[1;33m \u001b[0mprint\u001b[0m\u001b[1;33m(\u001b[0m\u001b[0mdata\u001b[0m\u001b[1;33m.\u001b[0m\u001b[0mget_text\u001b[0m\u001b[1;33m(\u001b[0m\u001b[1;33m)\u001b[0m\u001b[1;33m)\u001b[0m\u001b[1;33m\u001b[0m\u001b[1;33m\u001b[0m\u001b[0m\n\u001b[0m",
      "\u001b[1;31mAttributeError\u001b[0m: 'NoneType' object has no attribute 'get_text'"
     ]
    }
   ],
   "source": [
    "data = soup.find('h3', 'tit_view')\n",
    "print(data.get_text())\n",
    "data = soup.find('span', 'txt_info')\n",
    "print(data.get_text())\n",
    "data = soup.find_all('span', 'txt_info')\n",
    "for item in data:\n",
    "    print(item.get_text())\n",
    "print(data.get_text())\n",
    "data = soup.find_all('span', 'txt_info')\n",
    "print(data[1].get_text())\n",
    "data = soup.find('div', 'layer_util layer_summary')\n",
    "print(data.get_text())"
   ]
  },
  {
   "cell_type": "markdown",
   "metadata": {},
   "source": [
    "# 다음 사이트 크롤링"
   ]
  },
  {
   "cell_type": "code",
   "execution_count": 27,
   "metadata": {},
   "outputs": [
    {
     "name": "stdout",
     "output_type": "stream",
     "text": [
      "여상규 욕설\n",
      "조국수호검찰개혁\n",
      "조국 구속\n",
      "천호동대창쭈꾸미\n",
      "강지환\n",
      "유재수\n",
      "김성환\n",
      "차우찬\n",
      "이선호\n",
      "서건창\n"
     ]
    }
   ],
   "source": [
    "import requests\n",
    "from bs4 import BeautifulSoup\n",
    "\n",
    "res = requests.get('https://www.daum.net')\n",
    "soup = BeautifulSoup(res.content,'html.parser')\n",
    "\n",
    "data = soup.find_all('a', attrs ={'class' : 'link_issue', 'tabindex':'-1'})\n",
    "for i in data:\n",
    "    print(i.get_text())"
   ]
  },
  {
   "cell_type": "markdown",
   "metadata": {},
   "source": [
    "# 네이버 사이트 크롤링"
   ]
  },
  {
   "cell_type": "code",
   "execution_count": 52,
   "metadata": {
    "scrolled": true
   },
   "outputs": [
    {
     "name": "stdout",
     "output_type": "stream",
     "text": [
      "1 위 : 조국 구속\n",
      "2 위 : 여상규\n",
      "3 위 : 프리바이오틱스\n",
      "4 위 : 나나랜드\n",
      "5 위 : 천호동 대창쭈꾸미\n",
      "6 위 : 안달로우 1만명 이벤트\n",
      "7 위 : 가갸날\n",
      "8 위 : 여상규 욕설\n",
      "9 위 : 임태경\n",
      "10 위 : 차우찬\n",
      "11 위 : 어뜨무러차\n",
      "12 위 : 오정연\n",
      "13 위 : 안우진\n",
      "14 위 : 황석영\n",
      "15 위 : 삼성 채용\n",
      "16 위 : kb스타뱅킹 축하금\n",
      "17 위 : 강지환\n",
      "18 위 : 조세흠\n",
      "19 위 : 타인은 지옥이다 결말\n",
      "20 위 : 리틀빅히어로\n"
     ]
    }
   ],
   "source": [
    "import requests\n",
    "from bs4 import BeautifulSoup\n",
    "\n",
    "res = requests.get('https://www.naver.com')\n",
    "soup = BeautifulSoup(res.content, 'html.parser')\n",
    "\n",
    "data = soup.find('div', 'ah_roll_area PM_CL_realtimeKeyword_rolling')\n",
    "rank_item = data.find_all('li','ah_item')                                  # 추출한 곳에서 또 추출하기\n",
    "rank_item = rank_item\n",
    "for i in rank_item:\n",
    "    out_data = i.get_text().split('\\n')\n",
    "    print(out_data[2] + \" 위 : \" + out_data[3])                            # 문자열 함수와 같이 쓰기 "
   ]
  },
  {
   "cell_type": "markdown",
   "metadata": {},
   "source": [
    "# CSS selector 사용해서 크롤링하기 1"
   ]
  },
  {
   "cell_type": "code",
   "execution_count": 71,
   "metadata": {},
   "outputs": [
    {
     "name": "stdout",
     "output_type": "stream",
     "text": [
      "[<h3 class=\"tit_view\" data-translation=\"\">잔금대출에도 DTI 규제 적용 검토</h3>]\n"
     ]
    }
   ],
   "source": [
    "import requests\n",
    "from bs4 import BeautifulSoup\n",
    "\n",
    "res = requests.get('http://v.media.daum.net/v/20170615203441266')\n",
    "soup = BeautifulSoup(res.content, 'html.parser')\n",
    "\n",
    "data = soup.select('h3.tit_view')    # 무조건 리스트, .사용\n",
    "print(data)"
   ]
  },
  {
   "cell_type": "code",
   "execution_count": 70,
   "metadata": {},
   "outputs": [
    {
     "name": "stdout",
     "output_type": "stream",
     "text": [
      "[<div class=\"ah_roll_area PM_CL_realtimeKeyword_rolling\">\n",
      "<ul class=\"ah_l\">\n",
      "<li class=\"ah_item\">\n",
      "<a class=\"ah_a\" data-clk=\"lve.keyword\" href=\"#\">\n",
      "<span class=\"ah_r\">1</span>\n",
      "<span class=\"ah_k\">여상규</span>\n",
      "</a>\n",
      "</li>\n",
      "<li class=\"ah_item\">\n",
      "<a class=\"ah_a\" data-clk=\"lve.keyword\" href=\"#\">\n",
      "<span class=\"ah_r\">2</span>\n",
      "<span class=\"ah_k\">조국 구속</span>\n",
      "</a>\n",
      "</li>\n",
      "<li class=\"ah_item\">\n",
      "<a class=\"ah_a\" data-clk=\"lve.keyword\" href=\"#\">\n",
      "<span class=\"ah_r\">3</span>\n",
      "<span class=\"ah_k\">골수검사</span>\n",
      "</a>\n",
      "</li>\n",
      "<li class=\"ah_item\">\n",
      "<a class=\"ah_a\" data-clk=\"lve.keyword\" href=\"#\">\n",
      "<span class=\"ah_r\">4</span>\n",
      "<span class=\"ah_k\">케빈 나</span>\n",
      "</a>\n",
      "</li>\n",
      "<li class=\"ah_item\">\n",
      "<a class=\"ah_a\" data-clk=\"lve.keyword\" href=\"#\">\n",
      "<span class=\"ah_r\">5</span>\n",
      "<span class=\"ah_k\">차우찬</span>\n",
      "</a>\n",
      "</li>\n",
      "<li class=\"ah_item\">\n",
      "<a class=\"ah_a\" data-clk=\"lve.keyword\" href=\"#\">\n",
      "<span class=\"ah_r\">6</span>\n",
      "<span class=\"ah_k\">가갸날</span>\n",
      "</a>\n",
      "</li>\n",
      "<li class=\"ah_item\">\n",
      "<a class=\"ah_a\" data-clk=\"lve.keyword\" href=\"#\">\n",
      "<span class=\"ah_r\">7</span>\n",
      "<span class=\"ah_k\">오정연</span>\n",
      "</a>\n",
      "</li>\n",
      "<li class=\"ah_item\">\n",
      "<a class=\"ah_a\" data-clk=\"lve.keyword\" href=\"#\">\n",
      "<span class=\"ah_r\">8</span>\n",
      "<span class=\"ah_k\">여상규 욕설</span>\n",
      "</a>\n",
      "</li>\n",
      "<li class=\"ah_item\">\n",
      "<a class=\"ah_a\" data-clk=\"lve.keyword\" href=\"#\">\n",
      "<span class=\"ah_r\">9</span>\n",
      "<span class=\"ah_k\">박소영</span>\n",
      "</a>\n",
      "</li>\n",
      "<li class=\"ah_item\">\n",
      "<a class=\"ah_a\" data-clk=\"lve.keyword\" href=\"#\">\n",
      "<span class=\"ah_r\">10</span>\n",
      "<span class=\"ah_k\">임태경</span>\n",
      "</a>\n",
      "</li>\n",
      "<li class=\"ah_item\">\n",
      "<a class=\"ah_a\" data-clk=\"lve.keyword\" href=\"#\">\n",
      "<span class=\"ah_r\">11</span>\n",
      "<span class=\"ah_k\">우리말겨루기</span>\n",
      "</a>\n",
      "</li>\n",
      "<li class=\"ah_item\">\n",
      "<a class=\"ah_a\" data-clk=\"lve.keyword\" href=\"#\">\n",
      "<span class=\"ah_r\">12</span>\n",
      "<span class=\"ah_k\">치렀다 치뤘다</span>\n",
      "</a>\n",
      "</li>\n",
      "<li class=\"ah_item\">\n",
      "<a class=\"ah_a\" data-clk=\"lve.keyword\" href=\"#\">\n",
      "<span class=\"ah_r\">13</span>\n",
      "<span class=\"ah_k\">황석영</span>\n",
      "</a>\n",
      "</li>\n",
      "<li class=\"ah_item\">\n",
      "<a class=\"ah_a\" data-clk=\"lve.keyword\" href=\"#\">\n",
      "<span class=\"ah_r\">14</span>\n",
      "<span class=\"ah_k\">김웅빈</span>\n",
      "</a>\n",
      "</li>\n",
      "<li class=\"ah_item\">\n",
      "<a class=\"ah_a\" data-clk=\"lve.keyword\" href=\"#\">\n",
      "<span class=\"ah_r\">15</span>\n",
      "<span class=\"ah_k\">타인은 지옥이다 결말</span>\n",
      "</a>\n",
      "</li>\n",
      "<li class=\"ah_item\">\n",
      "<a class=\"ah_a\" data-clk=\"lve.keyword\" href=\"#\">\n",
      "<span class=\"ah_r\">16</span>\n",
      "<span class=\"ah_k\">kb스타뱅킹 축하금</span>\n",
      "</a>\n",
      "</li>\n",
      "<li class=\"ah_item\">\n",
      "<a class=\"ah_a\" data-clk=\"lve.keyword\" href=\"#\">\n",
      "<span class=\"ah_r\">17</span>\n",
      "<span class=\"ah_k\">타다</span>\n",
      "</a>\n",
      "</li>\n",
      "<li class=\"ah_item\">\n",
      "<a class=\"ah_a\" data-clk=\"lve.keyword\" href=\"#\">\n",
      "<span class=\"ah_r\">18</span>\n",
      "<span class=\"ah_k\">조세흠</span>\n",
      "</a>\n",
      "</li>\n",
      "<li class=\"ah_item\">\n",
      "<a class=\"ah_a\" data-clk=\"lve.keyword\" href=\"#\">\n",
      "<span class=\"ah_r\">19</span>\n",
      "<span class=\"ah_k\">월요일예능</span>\n",
      "</a>\n",
      "</li>\n",
      "<li class=\"ah_item\">\n",
      "<a class=\"ah_a\" data-clk=\"lve.keyword\" href=\"#\">\n",
      "<span class=\"ah_r\">20</span>\n",
      "<span class=\"ah_k\">한국 스리랑카</span>\n",
      "</a>\n",
      "</li>\n",
      "</ul>\n",
      "</div>]\n"
     ]
    }
   ],
   "source": [
    "res = requests.get('https://www.naver.com')\n",
    "soup = BeautifulSoup(res.content, 'html.parser')\n",
    "data = soup.select('div.ah_roll_area.PM_CL_realtimeKeyword_rolling')\n",
    "print(data)"
   ]
  },
  {
   "cell_type": "markdown",
   "metadata": {},
   "source": [
    "1. select() 사용. 결과값은 리스트\n",
    "2. CSS Selector 로 html 데이터를 선택할 때\n",
    "    - tag 이름으로 선택가능 - select('h3')\n",
    "    - tag + class 이름으로 선택 가능 - select(\"h3.tit_view\")\n",
    "    - tag + multiple class 이름으로도 선택 가능 = select('div.ah_roll_area.PM_CL_realtimeKeyword_rolling')\n",
    "    - class 이름으로만 선택 가능 - select(\"tit_view\")\n",
    "    - id 이름으로만 선택 가능 - select(\"#id이름\")\n",
    "    - 상위/하위 tag 선택 가능 - select(\"html head title\") or  select(\"head > title\")\n",
    "    - 복합 사용 - select(\"div.tit_view div#harmoney\")\n",
    "    \n",
    "    \n",
    "3. CSS Selector 팁\n",
    "    - 개발자 모드에서 Copy selector 참조"
   ]
  },
  {
   "cell_type": "markdown",
   "metadata": {},
   "source": [
    "# CSS selector 사용해서 크롤링하기 2"
   ]
  },
  {
   "cell_type": "code",
   "execution_count": 2,
   "metadata": {},
   "outputs": [
    {
     "name": "stdout",
     "output_type": "stream",
     "text": [
      "\n",
      "\n",
      "\n",
      "\n",
      "1\n",
      "안혜경\n",
      "\n",
      "\n",
      "\n",
      "\n",
      "2\n",
      "아빠는 딸바봉\n",
      "\n",
      "\n",
      "\n",
      "\n",
      "3\n",
      "한글날 태극기\n",
      "\n",
      "\n",
      "\n",
      "\n",
      "4\n",
      "명재권\n",
      "\n",
      "\n",
      "\n",
      "\n",
      "5\n",
      "위험한 상견례2\n",
      "\n",
      "\n",
      "\n",
      "\n",
      "6\n",
      "강선우\n",
      "\n",
      "\n",
      "\n",
      "\n",
      "7\n",
      "인스타 다크모드\n",
      "\n",
      "\n",
      "\n",
      "\n",
      "8\n",
      "이재영\n",
      "\n",
      "\n",
      "\n",
      "\n",
      "9\n",
      "오롯\n",
      "\n",
      "\n",
      "\n",
      "\n",
      "10\n",
      "명재권 판사\n",
      "\n",
      "\n",
      "\n",
      "\n",
      "11\n",
      "10월 9일 광화문 집회\n",
      "\n",
      "\n",
      "\n",
      "\n",
      "12\n",
      "스파이더맨 홈커밍\n",
      "\n",
      "\n",
      "\n",
      "\n",
      "13\n",
      "베컴\n",
      "\n",
      "\n",
      "\n",
      "\n",
      "14\n",
      "타짜 원아이드잭\n",
      "\n",
      "\n",
      "\n",
      "\n",
      "15\n",
      "유 퀴즈 온 더 블럭 2\n",
      "\n",
      "\n",
      "\n",
      "\n",
      "16\n",
      "한글날 행사\n",
      "\n",
      "\n",
      "\n",
      "\n",
      "17\n",
      "블랙핑크\n",
      "\n",
      "\n",
      "\n",
      "\n",
      "18\n",
      "강선우 부대변인\n",
      "\n",
      "\n",
      "\n",
      "\n",
      "19\n",
      "하유비\n",
      "\n",
      "\n",
      "\n",
      "\n",
      "20\n",
      "한글날 택배\n",
      "\n",
      "\n",
      "\n",
      "\n"
     ]
    }
   ],
   "source": [
    "import requests\n",
    "from bs4 import BeautifulSoup\n",
    "\n",
    "res = requests.get('https://www.naver.com')\n",
    "soup = BeautifulSoup(res.content, 'html.parser')\n",
    "data = soup.select('div.ah_roll_area.PM_CL_realtimeKeyword_rolling')\n",
    "for i in data:\n",
    "    print(i.get_text())"
   ]
  },
  {
   "cell_type": "code",
   "execution_count": 3,
   "metadata": {},
   "outputs": [
    {
     "name": "stdout",
     "output_type": "stream",
     "text": [
      "\n",
      "\n",
      "\n",
      "\n",
      "1\n",
      "안혜경\n",
      "\n",
      "\n",
      "\n",
      "\n",
      "2\n",
      "아빠는 딸바봉\n",
      "\n",
      "\n",
      "\n",
      "\n",
      "3\n",
      "한글날 태극기\n",
      "\n",
      "\n",
      "\n",
      "\n",
      "4\n",
      "명재권\n",
      "\n",
      "\n",
      "\n",
      "\n",
      "5\n",
      "위험한 상견례2\n",
      "\n",
      "\n",
      "\n",
      "\n",
      "6\n",
      "강선우\n",
      "\n",
      "\n",
      "\n",
      "\n",
      "7\n",
      "인스타 다크모드\n",
      "\n",
      "\n",
      "\n",
      "\n",
      "8\n",
      "이재영\n",
      "\n",
      "\n",
      "\n",
      "\n",
      "9\n",
      "오롯\n",
      "\n",
      "\n",
      "\n",
      "\n",
      "10\n",
      "명재권 판사\n",
      "\n",
      "\n",
      "\n",
      "\n",
      "11\n",
      "10월 9일 광화문 집회\n",
      "\n",
      "\n",
      "\n",
      "\n",
      "12\n",
      "스파이더맨 홈커밍\n",
      "\n",
      "\n",
      "\n",
      "\n",
      "13\n",
      "베컴\n",
      "\n",
      "\n",
      "\n",
      "\n",
      "14\n",
      "타짜 원아이드잭\n",
      "\n",
      "\n",
      "\n",
      "\n",
      "15\n",
      "유 퀴즈 온 더 블럭 2\n",
      "\n",
      "\n",
      "\n",
      "\n",
      "16\n",
      "한글날 행사\n",
      "\n",
      "\n",
      "\n",
      "\n",
      "17\n",
      "블랙핑크\n",
      "\n",
      "\n",
      "\n",
      "\n",
      "18\n",
      "강선우 부대변인\n",
      "\n",
      "\n",
      "\n",
      "\n",
      "19\n",
      "하유비\n",
      "\n",
      "\n",
      "\n",
      "\n",
      "20\n",
      "한글날 택배\n",
      "\n",
      "\n",
      "\n",
      "\n"
     ]
    }
   ],
   "source": [
    "res = requests.get('https://www.naver.com')\n",
    "soup = BeautifulSoup(res.content, 'html.parser')\n",
    "data = soup.select('html div.ah_roll_area.PM_CL_realtimeKeyword_rolling')\n",
    "for i in data:\n",
    "    print(i.get_text())"
   ]
  },
  {
   "cell_type": "code",
   "execution_count": 8,
   "metadata": {
    "scrolled": true
   },
   "outputs": [
    {
     "name": "stdout",
     "output_type": "stream",
     "text": [
      "[<title>잔금대출에도 DTI 규제 적용 검토 | Daum 뉴스</title>]\n",
      "[<title>잔금대출에도 DTI 규제 적용 검토 | Daum 뉴스</title>]\n",
      "[<title>잔금대출에도 DTI 규제 적용 검토 | Daum 뉴스</title>]\n",
      "[<h3 class=\"tit_view\" data-translation=\"\">잔금대출에도 DTI 규제 적용 검토</h3>]\n"
     ]
    }
   ],
   "source": [
    "res = requests.get('http://v.media.daum.net/v/20170615203441266')\n",
    "soup = BeautifulSoup(res.content, 'html.parser')\n",
    "data = soup.select('html head title')\n",
    "print(data)\n",
    "\n",
    "data = soup.select('html title')\n",
    "print(data)\n",
    "\n",
    "data = soup.select('html > head > title')\n",
    "print(data)\n",
    "\n",
    "data= soup.select('.tit_view')\n",
    "print(data)\n"
   ]
  },
  {
   "cell_type": "code",
   "execution_count": 15,
   "metadata": {},
   "outputs": [
    {
     "name": "stdout",
     "output_type": "stream",
     "text": [
      "\n",
      "\n",
      "내주 부동산 종합대책 발표\n",
      "집값 상승 노린 투기 분양 차단\n",
      "LTVㆍDTI 규제 다시 강화할 듯\n",
      "저소득 실수요자 피해 우려도\n",
      "\n",
      "\n",
      "\n",
      "금융당국이 급증하는 가계부채 증가세를 막기 위해 아파트 잔금대출에도 소득을 따져 대출한도를 정하는 총부채상환비율(DTI)을 적용하는 방안을 유력하게 검토하고 있다. 지금은 집값을 기준으로 대출한도를 매기는 주택담보인정비율(LTV) 규제만 적용돼 소득이 없어도 집값의 70%를 빌려 잔금을 치르는 게 가능하다. 앞으로 잔금대출에 DTI가 적용되면 소득 없는 사람이 입주 뒤 집값 상승을 노리고 분양시장에 뛰어드는 게 사실상 불가능해진다. \n",
      "금융당국 고위관계자는 15일 “잔금대출에도 DTI를 적용하는 방안을 검토 중”이라며 “다만 아직 최종 결론이 난 건 아니다”고 말했다. 정부는 내주 이 같은 내용을 포함한 부동산 종합 대책을 발표할 예정이다. \n",
      "정부가 잔금대출 DTI 적용 카드를 꺼내는 건, 집단대출을 잡지 않고선 과열된 주택시장을 진정시키기 어렵다는 판단에서다. 실제 정부는 지난해 잔금대출도 대출 초기부터 원리금을 함께 갚도록 하는 여신심사 가이드라인을 도입했지만 이렇다 할 효과를 거두지 못했다. 오히려 정부 대책에도 불구, 집단대출 증가액은 매달 늘어나는 추세인데 지난달엔 2조원으로 올 들어 최고치를 기록했다. \n",
      "아파트 분양 집단대출은 중도금과 잔금대출로 구분된다. 계약금 10%를 내면 입주 전까지 집값의 60%를 중도금 대출로 받을 수 있다. 중도금 대출은 건설사 보증으로 이뤄져 소득심사를 안 거친다. 잔금대출은 건설사가 아닌 집을 담보로 이뤄지는 대출이다. LTV 규제만 적용돼 소득이 없어도 집값의 70%까지 대출이 가능하다. 때문에 지금은 잔금대출로 집값의 70%를 대출받아 기존 중도금 대출을 갚고 나머지 20%만 본인 돈으로 충당하면 집을 살 수 있다.\n",
      "앞으로 잔금대출에 DTI가 적용되면 소득이 없는 사람은 집값의 70% 대출 받는 게 어려워진다. 입주 뒤 집값 상승을 노리는 투기수요를 확실히 걸러낼 초강력 대책이 될 수 있다. 하지만 부작용도 우려된다. 소득이 낮은 사회초년생 등은 청약통장을 갖고도 분양시장에 진입하는 게 어려워지기 때문이다. \n",
      "이에 따라 잔금대출에 DTI를 적용하는 것 역시 지역 등에 따라 선별적으로 이뤄질 가능성이 높다. 현재 당국은 신규 분양 물량부터 규제를 적용할지 아니면 기존 분양 물량까지 규제 범위를 확대할지를 놓고 시뮬레이션을 하고 있다. \n",
      "아울러 당국은 지난 2년간 완화됐던 LTV와 DTI를 다시 강화할 것으로 보인다. 현재 LTV(은행 기준)는 기존 50~60%에서 70%, DTI는 50~60%에서 60%로 완화돼 있는 상태다. 당국은 일괄적인 조이기보다 지역ㆍ집값 수준별로 기준을 다르게 적용하는 방식을 모색할 것으로 보인다.\n",
      "김동욱 기자 kdw1280@hankookilbo.com\n",
      "\n",
      "\n"
     ]
    }
   ],
   "source": [
    "data= soup.select('#mArticle #harmonyContainer')\n",
    "for i in data:\n",
    "    print(i.get_text())"
   ]
  },
  {
   "cell_type": "markdown",
   "metadata": {},
   "source": [
    "# 네이버 쇼핑 사이트 크롤링하기"
   ]
  },
  {
   "cell_type": "markdown",
   "metadata": {},
   "source": [
    "import requests\n",
    "\n",
    "from bs4 import BeautifulSoup\n",
    "\n",
    "\n",
    "res = requests.get('SITE HTML')\n",
    "\n",
    "soup = BeautifulSoup(res.content, 'html.parser')\n",
    "\n",
    "data = soup.select('CSS')\n",
    "\n",
    "for i in data:\n",
    "\n",
    "    print(i.get_text())\n",
    "    "
   ]
  },
  {
   "cell_type": "code",
   "execution_count": 20,
   "metadata": {},
   "outputs": [
    {
     "name": "stdout",
     "output_type": "stream",
     "text": [
      "후드티\n",
      "니트원피스\n",
      "여성경량패딩\n",
      "트위드자켓\n",
      "원피스\n",
      "닥스키즈\n",
      "블루투스 이어폰\n",
      "행거\n",
      "오르시떼 아동잠옷\n",
      "전신거울\n"
     ]
    }
   ],
   "source": [
    "import requests\n",
    "from bs4 import BeautifulSoup\n",
    "\n",
    "res = requests.get('https://search.shopping.naver.com/best100v2/main.nhn')\n",
    "soup = BeautifulSoup(res.content, 'html.parser')\n",
    "data = soup.select('#popular_srch_lst > li > span.txt')\n",
    "for i in data:\n",
    "    print(i.get_text())"
   ]
  },
  {
   "cell_type": "code",
   "execution_count": 25,
   "metadata": {},
   "outputs": [
    {
     "name": "stdout",
     "output_type": "stream",
     "text": [
      "https://search.shopping.naver.com/best100v2/detail.nhn?catId=50000000\n",
      "폴로랄프로렌 하프집업 니트 맨투맨\n",
      "휠라 크레마 보아 플리스 DTL FS2FTB4003X ...\n",
      "클래식 체크 순면 커플 잠옷 파자마 세트\n",
      "나이키 맨투맨 후드티 804343-063\n",
      "타미힐피거 남녀공용 베이직플래그 빅로고 ...\n",
      "나이키 W NSW 리버시블 셰르파 스우시 재킷...\n",
      "사막여우 후드티 후드집업 맨투맨 빅사이즈...\n",
      "가을 하이웨스트 미친스판 세미 부츠컷 와이...\n",
      "남자 가을 겨울 스판 편한 밴딩 슬랙스 면바...\n",
      "리스트 클래식 더블 버튼 트렌치코트 TWWBY...\n",
      "트리플에이 AAA 무지티 반팔티셔츠 1301 16...\n",
      "게스 유니 미니삼각 자수심플 맨투맨 NJ3K0...\n",
      "남자팬티 드로즈속옷 7종\n",
      "달콤한레드 신혼부부 커플 파자마 잠옷\n",
      "지오다노 여 크루넥 경량다운 자켓 378905\n",
      "지오다노 여 플란넬 셔츠 05349911\n",
      "아디다스 오리지널 우먼스 3S 레깅스 타이즈...\n",
      "지오다노 크루넥 솔리드 스웨트셔츠 029910\n",
      "나이키 NSW 테크플리스 조거 팬츠 805163-0...\n",
      "하이웨스트 맥시 찰랑 와이드 슬랙스\n",
      "노스페이스 화이트라벨 공용 리모 플리스 자...\n",
      "폴햄 남성 슬림핏 사이드밴딩 슬랙스 팬츠 ...\n",
      "1+1 쫀득 부들부들 라운드 긴팔티셔츠\n",
      "스티치 울50 루즈핏 가디건\n",
      "캘빈클라인언더웨어 캘빈클라인 ck팬티 남성...\n",
      "내셔널지오그래픽 코스토니 플리스 뽀글이 ...\n",
      "아디다스 GS 남성 쿨썸머 블랙패키지 드로즈...\n",
      "과르디 스판시보리 조거 남자트레이닝바지 ...\n",
      "공용 무지 오버핏 맨투맨\n",
      "나이키 빅스우시 윈드브레이커 바람막이 검...\n",
      "지오다노 여 슬림핏 슬랙스 419902\n",
      "파타고니아 레트로 x 후리스 플리스 자켓\n",
      "칼하트 남여공용 러틀랜드 써멀 후드 집업 ...\n",
      "내셔널지오그래픽 폴하스 스몰로고 맨투맨 ...\n",
      "클라이드앤 공용 솔리드 기모 후드 티셔츠 ...\n",
      "지오다노 여 후드 집업 가디건 329927\n",
      "리스트 솔리드 클래식 트렌치코트 TWWBYJ72...\n",
      "폴로랄프로렌 남성 클래식핏 옥스포드 코튼...\n",
      "푸마바디웨어 HIT 여성 레이어드 타이즈 1종...\n",
      "EUROcollection 유로컬렉션 밍크 레이어링 ...\n",
      "타미힐피거 남녀 맨투맨 CREW SHIRT 커플추...\n",
      "순면 체크 가을 커플 잠옷 긴팔 파자마세트\n",
      "폴로랄프로렌 남성 반집업 아노락 맨투맨\n",
      "미쏘 울혼방 원버튼자켓 MIWJK9T3PG\n",
      "컨셉원 10 TR 슬림핏 히든밴딩 스판 슬랙스...\n",
      "내셔널지오그래픽 코우너스 플리스 롱기장 ...\n",
      "아디다스 마샬아츠 세트 TR10030M 블랙화이...\n",
      "지오다노 여 초경량 크루넥 379903\n",
      "아디다스 우먼스 레깅스 타이츠 9종\n",
      "아날도바시니 남자팬티 속옷 드로즈 6종\n",
      "특양면 맨투맨\n",
      "비비드 버튼 가디건 여성 가을 겨울 가디건\n",
      "나이키 남성 스우시 테크팩 조거팬츠\n",
      "특양면 베이직 맨투맨 기모 무지\n",
      "가을 하객 오피스 랩 롱 원피스\n",
      "온앤온 와이드 폭스퍼 구스다운 NP8XH7750\n",
      "가을 인생템 램스울 루즈핏 가디건\n",
      "타미힐피거 시그니처 여자 맨투맨\n",
      "남녀공용 커플 아노락 후드 바람막이\n",
      "블리스텝 세트 신혼부부커플 긴팔반팔 여름...\n",
      "케네스콜 헤링본 뉴욕 여성 울 블랜디드 롱...\n",
      "프린트스타 17수 무지 베이직 라운드 반팔 ...\n",
      "톰보이 울체크 테일러드 자켓 9109412999\n",
      "지오다노 초경량 퀼팅 숏자켓 379907\n",
      "여성 기본 셔츠 루즈핏 면남방 5컬러 메다\n",
      "가을 결혼식 하객패션 빅사이즈 카라 정장 ...\n",
      "아디다스 유로파 트랙 팬츠 L43690\n",
      "TV쇼핑 단품 V CUT 브이컷 여성 울트라 매직...\n",
      "지오다노 여성 오드리 팬츠 419904\n",
      "세인트제임스 밍콰이어 스트라이프 티셔츠 ...\n",
      "폴로 브이넥 꽈배기 니트 여성용 8컬러\n",
      "폴로랄프로렌 여성 슬림핏 클래식핏 옥스포...\n",
      "JJ지고트 배색 카라 트위드 원피스 GJ9M0OP...\n",
      "게스 진 여성용 슬림 스키니 데님 팬츠 청바...\n",
      "비비안 라인핏 드림 노와이어 컬렉션\n",
      "BARBOUR 인터네셔널 폴라 퀼팅자켓 POLARQU...\n",
      "지오다노 싱글 트렌치 코트 079901\n",
      "랩 폴리스판 체크 싱글자켓 AK3WJ864\n",
      "폴햄 남성 크루넥 트임 니트베스트 PHZ4ES1...\n",
      "일자 트레이닝 팬츠 요가 바지\n",
      "더블 자켓 트렌치 하객 롱 원피스\n",
      "내셔널지오그래픽 칼리스 라이트 구스 다운...\n",
      "LBL 이태리 원사 캐시미어울 원피스 숄\n",
      "베이직하우스 순면 라운드 반팔 오리지널팩...\n",
      "지오다노 여 언브러시드 테리 크루넥 풀오버...\n",
      "이지룩 루즈핏 브이넥 니트\n",
      "타미힐피거 공용 코튼 로고 긴소매 티셔츠 ...\n",
      "가을부터 겨울까지 니트 롱스커트 5컬러\n",
      "올리브데올리브 오버핏 핸드메이드 코트 OW...\n",
      "스튜디오톰보이 냅핑 후드 롱 원피스 91094...\n",
      "리스트 플루이드 더블 트렌치 코트 TWWBYJ7...\n",
      "지컷 19f w 더블 체크자켓 7259410003\n",
      "1+1 스트라이프 루즈핏 티셔츠\n",
      "세인트제임스 본사정품Guildo Elbow U DOT ...\n",
      "아디다스 우먼즈 J트랙 팬츠 BI4521\n",
      "아디다스아이웨어 트레이닝복 세트\n",
      "타미힐피거 남녀공용 베이직 맨투맨 BJ\n",
      "노라인 심리스 무봉제 팬티 개별지퍼팩포장\n",
      "내셔널지오그래픽 몬타나 유니 니트 풀 집업...\n",
      "지오다노 테이퍼드 슬랙스 119511\n",
      "https://search.shopping.naver.com/best100v2/detail.nhn?catId=50000001\n",
      "반스 올드스쿨 스니커즈 VN000D3HY28 블랙\n",
      "라이프굿즈 밸런스풋패드 바른자세 깔창\n",
      "컨버스 척테일러1970s 하이 클래식 162050C\n",
      "컨버스 척테일러 올스타 클래식 블랙 M9166...\n",
      "나이키 에어맥스 엑시스 화이트 AA2168-100\n",
      "나이키 데이브레이크 SP BV7725-002\n",
      "나이키 에어맥스97 921826-015\n",
      "나이키 에어맥스 엑시스 블랙 / 화이트 AA2...\n",
      "나이키 에어맥스 97 트리플화이트 921826-1...\n",
      "내셔널지오그래픽 신발 트리핀 라이노 어글...\n",
      "나이키 베이퍼맥스 플라이니트3 나코탭 트리...\n",
      "나이키 에어 포스 원 로우 스니커즈 315122...\n",
      "디스커버리익스페디션 버켓 디스커버리 공용...\n",
      "몽블랑 남성 사토리얼 6CC 반지갑 116326\n",
      "아디다스 슈퍼스타 C77124\n",
      "나이키 제이크루 킬샷2 스니커즈 432997-10...\n",
      "폴로랄프로렌 포니로고 야구 모자 남녀공용...\n",
      "나이키 에어맥스 95 에센셜 AT9865-100\n",
      "아디다스 알파바운스 슬라이드 슬리퍼 블랙...\n",
      "구찌 G버클 가죽벨트 여자용 409417\n",
      "캉골 컨버스 앨리스 버킷백 3738 3종\n",
      "몽블랑 사토리얼 남성 카드지갑 114603\n",
      "나이키 에어 줌 페가수스 36 런닝화 AQ2203...\n",
      "닥터마틴 플로라 첼시부츠 유광 부츠 워커 ...\n",
      "보테가베네타 남성 반지갑\n",
      "내셔널지오그래픽 24형20형 스페이스 캐리어...\n",
      "레드 BAYNES 토트백 GW309001\n",
      "나이키 에어 줌 페가수스 36 런닝화 AQ2203...\n",
      "1290 무지 기본 골지 양말\n",
      "살바토레페라가모 살바토레 페레가모 양면 ...\n",
      "나이키 에어 베이퍼맥스 2019 AR6631-004\n",
      "타미힐피거 벨트 양면벨트 11TL08X014\n",
      "나이키 클래식 코르테즈 807471-101 화이트...\n",
      "몽블랑 레더 지갑 113215\n",
      "아디다스 Unisex 남여공용 오즈위고 OZWEEG...\n",
      "아메리칸투어리스터 FLINT 캐리어 2종 세트...\n",
      "반스 올드스쿨 뮬 VN0A3MUS6BT\n",
      "나이키 에어 맥스 95 트리플블랙 남성용 AT...\n",
      "몽블랑 사토리얼 공용 키홀더 114627\n",
      "휠라 디스럽터 2 러닝화 화이트 FS1HTA1071...\n",
      "가드링 레이어드 실반지\n",
      "나이키 에어맥스 97 남여공용 921733-603\n",
      "나이키 슈즈 우먼스 에어맥스 97 오레오 92...\n",
      "스티코 주방화 2019년최신미끄럼방지 조리화...\n",
      "스와로브스키 Dazzling Swan 목걸이 546998...\n",
      "나이키 우먼스 에어맥스 97 921733-100\n",
      "반스 올드스쿨 라이트 레더 VN0A2Z5WNQS\n",
      "양가죽 스웨이드 삭스스판 부츠 스퀘어 사각...\n",
      "국산고퀄리티 골지양말 무지양말 면양말 12...\n",
      "컨버스 캔버스화 144757c 블랙+화이트\n",
      "닥터마틴 블랙 유광 1461 R11838002\n",
      "나이키 에어맥스 97 팬텀베이지 921733007\n",
      "나이키 런닝화 에어맥스 엑시스 AA2146-100\n",
      "나이키 우먼스 레볼루션 4 908999-001\n",
      "헤어피스 똑딱이 붙임머리 9종\n",
      "지오다노 01134600 리버서블 래더 벨트 134...\n",
      "엑셀시오르 볼트로우 베스트 3종 ES_M6017C...\n",
      "아디다스 팔콘 W G26880\n",
      "푸마 썬더 스펙트라 THUNDER SPECTRA 36751...\n",
      "구찌 오피디아 GG 카드지갑 523155\n",
      "나이키 에어맥스 720 AO2924-015\n",
      "헤지스 블랙 퍼피로고 가죽 자동벨트 WUBE8...\n",
      "아디다스 이큅먼트 10 EF1387\n",
      "닥스 ACC 버클장식 가죽 자동벨트 WBBE8F20...\n",
      "내셔널지오그래픽 NG 캐리어세트 N6501P8\n",
      "몽블랑 남성 장지갑 113207\n",
      "닥터마틴 남성 첼시부츠 2976-BLACK (11853...\n",
      "닥터마틴 닥터 제이든 워커 15265001\n",
      "스와로브스키 팔찌 Ginger 5274892\n",
      "아키클래식 키높이 어글리 슈즈 운동화 샤인\n",
      "조셉앤스테이시 Lucky Pleats Knit M Jelly...\n",
      "생로랑 모노그램 클러치 라지 440222\n",
      "몽블랑 무료각인 카드지갑 사토리얼 116760\n",
      "아디다스 알파바운스 슬라이드 블랙 B41720\n",
      "스케쳐스 여성 고 워크 5-SP0WW19Y111\n",
      "휠라 오크먼트 TR  FS1RIB3022X\n",
      "휠라꼬모 뮬 BLK FS1SIB1276X\n",
      "구찌 오피디아 스몰 GG 버킷백 550621\n",
      "나무하나 크로 Gros 펌프스\n",
      "국산 로고인쇄 슬리퍼 사무실 거실화 실내슬...\n",
      "나이키 헤리티지 남여공용 힙색 BA5750-010\n",
      "생로랑 WCB1 모노그램 클러치 뉴미듐 55919...\n",
      "부채만들기\n",
      "스와로브스키 SWA SYMBOL MOON 네크리스 54...\n",
      "알자토 레그서포터 종아리 아대 1004\n",
      "메종마르지엘라 독일군 스니커즈 19FW 0S57...\n",
      "프리미엄 와치와인더 KA-015\n",
      "락포트 여성화 여성 캠브리지 컴포트 드라이...\n",
      "나이키 에어 테일윈드 79 487754-011\n",
      "다이에나롤랑 데일리 여자벨트 금장 은장 F...\n",
      "루이까또즈 미니지갑 SL1AL03BL\n",
      "몽블랑 남성 반지갑 4종 113215\n",
      "쿠론 핸드백 v melia tote 멜리아 토트 RCB...\n",
      "락포트 모던 프렙 페니 남성 남자 로퍼 정장...\n",
      "하트핀 안테나핀 하트스프링핀\n",
      "스케쳐스 에너지 SL0WC19Y011\n",
      "아디다스 오즈위고 블러쉬 EG6697\n",
      "말랑 페니 로퍼\n",
      "어텀꽃 리프 22개세트 헤어핀 플라워 메탈 ...\n",
      "족저근막염 평발 기능성 깔창\n"
     ]
    }
   ],
   "source": [
    "import requests\n",
    "from bs4 import BeautifulSoup\n",
    "\n",
    "site_list = ['https://search.shopping.naver.com/best100v2/detail.nhn?catId=50000000','https://search.shopping.naver.com/best100v2/detail.nhn?catId=50000001']\n",
    "\n",
    "for j in site_list:\n",
    "    res = requests.get(j)\n",
    "    soup = BeautifulSoup(res.content, 'html.parser')\n",
    "    data = soup.select('#productListArea > ul > li > p > a')\n",
    "    print(j)\n",
    "    for i in data:\n",
    "        print(i.get_text())\n"
   ]
  },
  {
   "cell_type": "markdown",
   "metadata": {},
   "source": [
    "# 네이버 주식 사이트 크롤링하기"
   ]
  },
  {
   "cell_type": "code",
   "execution_count": 26,
   "metadata": {},
   "outputs": [
    {
     "name": "stdout",
     "output_type": "stream",
     "text": [
      "신라젠\n",
      "에이치엘비\n",
      "삼성전자\n",
      "헬릭스미스\n",
      "에이프로젠제약\n",
      "올리패스\n",
      "이크레더블\n",
      "메지온\n",
      "카카오\n",
      "솔브레인\n"
     ]
    }
   ],
   "source": [
    "import requests\n",
    "\n",
    "from bs4 import BeautifulSoup\n",
    "res = requests.get('https://finance.naver.com/sise/')\n",
    "soup = BeautifulSoup(res.content, 'html.parser')\n",
    "data = soup.select('#popularItemList > li > a')\n",
    "for i in data:\n",
    "    print(i.get_text())"
   ]
  },
  {
   "cell_type": "code",
   "execution_count": 38,
   "metadata": {},
   "outputs": [
    {
     "name": "stdout",
     "output_type": "stream",
     "text": [
      "이름 :  다우산업 현재 지수 : 26,164.04 하락\n",
      "이름 :   나스닥 현재 지수 : 7,823.78 하락\n",
      "이름 :   홍콩H 현재 지수 : 10,180.12 하락\n",
      "이름 :   상해종합 현재 지수 : 2,912.37 하락\n",
      "이름 :   니케이225 현재 지수 : 21,447.73 하락\n"
     ]
    }
   ],
   "source": [
    "import requests\n",
    "\n",
    "from bs4 import BeautifulSoup\n",
    "res = requests.get('https://finance.naver.com/sise/')\n",
    "soup = BeautifulSoup(res.content, 'html.parser')\n",
    "data = soup.select('div.rgt > ul.lst_major > li')\n",
    "\n",
    "\n",
    "for i in data:\n",
    "    print(\"이름 : \", i.find('a').get_text(), \"현재 지수 :\" , i.find('span').get_text(), i.find('em').get_text())"
   ]
  },
  {
   "cell_type": "markdown",
   "metadata": {},
   "source": [
    "# urllib 사용법"
   ]
  },
  {
   "cell_type": "code",
   "execution_count": 41,
   "metadata": {},
   "outputs": [
    {
     "name": "stderr",
     "output_type": "stream",
     "text": [
      "Some characters could not be decoded, and were replaced with REPLACEMENT CHARACTER.\n"
     ]
    }
   ],
   "source": [
    "import requests\n",
    "from bs4 import BeautifulSoup\n",
    "\n",
    "res = requests.get('https://www.seeko.kr/zboard4/zboard.php?id=mainnews')\n",
    "soup = BeautifulSoup(res.content, 'html.parser')\n",
    "data = soup.find_all('td', 'article_subject')\n",
    "for i in data:\n",
    "    print(i.get_text())"
   ]
  },
  {
   "cell_type": "markdown",
   "metadata": {},
   "source": [
    "## urllib를 활용한 크롤링 코드\n",
    "- 인터넷에 다양한 예제들이 urllib, urllib2를 사용한 예제들이 많으므로, 익혀둘 필요가 있음.\n",
    "- 인코딩 문제가 있는 사이트의 경우 urllib를 사용하면 해결되는 경우가 있음"
   ]
  },
  {
   "cell_type": "code",
   "execution_count": 46,
   "metadata": {},
   "outputs": [
    {
     "name": "stdout",
     "output_type": "stream",
     "text": [
      "  삼성 갤럭시 벤치마크 부스터 부정행위로 집단소송 280만달러에 합의.  \n",
      "  화웨이 제품 500개 넘게 조사했더니 취약점이 한 가득  [1]\n",
      "  죽지도 않고 또 왔네 : 애플 아이팟 터치 7세대  [2]\n",
      "  갤럭시 폴드 출시 연기 ㅋㅋ  [5]\n",
      "  월 1만원 아끼려고…넷플릭스 인기에 '계정 공유' 플랫폼 성황  [6]\n",
      "  美, 화웨이 이은 ‘틱톡’ … 제2 보안 위협 지목  [2]\n",
      "  [이진욱의 전자수첩] '폴더블폰' 기다렸더니…'경첩' 내미는 LG의 짠내  [3]\n",
      "  LG전자 비밀병기 '듀얼 디스플레이폰'의 정체   [4]\n",
      "  LG전자, 스마트폰 위축속 TV도 '안갯속'…OLED 치킨게임 전초전  \n",
      "  LG전자, MC부진으로 충격적 '어닝쇼크'…권봉석 사장 체제 '흔들'  [3]\n",
      "  ‘영업익 3조’ 꿈 무너진 LG전자, 발목 잡은 스마트폰 15분기 연속적자(종합)  [2]\n",
      "  삼성은 하는데…LG전자, 올해부터 게임 등급 못 매긴다  [1]\n",
      "  \"과징금 낼래, 특허訴 포기할래\"…삼성·SK 반도체 '겁박'한 중국  [3]\n",
      "  내년도 암울한 LG 스마트폰, '사업본부' 지위도 반납?   [1]\n",
      "  LG전자, '초콜릿폰' 주역 전면에…후속 조직개편 마무리   [3]\n",
      "  방탄소년단 모델로 앞세운 구광모 회장의 '실패작' LG폰의 충격 근황  [3]\n",
      "  \"LG전자 갑질에 공장 문닫게 됐다\" 정의당, '불공정·갑질 피해 증언대회'서 피해 업체 '울분'  [1]\n",
      "  소니코리아, 시그니처 시리즈 뮤직 플레이어·이어폰 출시  [4]\n",
      "  역대 최악' 삼성 스마트폰 사업..올해 최대성과급 기대 못해  [7]\n",
      "  애플, 또 한국 차별…\"애플케어+ 가입 차단\"  [14]\n",
      "  피아톤 무선 이어폰, 와디즈에서 10분만에 1억원 펀딩  [1]\n",
      "  LG전자, 1년만에 MC사업본부장 교체  [3]\n",
      "  애플 \"아이폰XR은 최고 인기모델\"  [12]\n",
      "  슈어 수입사 삼아사운드 일본에 팔려  [1]\n",
      "  7인치 화면 시대 열리는데…'접으면 4인치' 폴더블폰 성공할까  [13]\n"
     ]
    }
   ],
   "source": [
    "from urllib.request import urlopen\n",
    "from bs4 import BeautifulSoup\n",
    "\n",
    "res = urlopen('https://www.seeko.kr/zboard4/zboard.php?id=mainnews')\n",
    "soup = BeautifulSoup(res, \"html.parser\")\n",
    "data = soup.find_all('td', 'article_subject')\n",
    "for i in data:\n",
    "    print(i.get_text())"
   ]
  },
  {
   "cell_type": "markdown",
   "metadata": {},
   "source": [
    "# 게시판 크롤링"
   ]
  },
  {
   "cell_type": "code",
   "execution_count": 48,
   "metadata": {},
   "outputs": [
    {
     "name": "stdout",
     "output_type": "stream",
     "text": [
      "  삼성 갤럭시 벤치마크 부스터 부정행위로 집단소송 280만달러에 합의.  \n",
      "  화웨이 제품 500개 넘게 조사했더니 취약점이 한 가득  [1]\n",
      "  죽지도 않고 또 왔네 : 애플 아이팟 터치 7세대  [2]\n",
      "  갤럭시 폴드 출시 연기 ㅋㅋ  [5]\n",
      "  월 1만원 아끼려고…넷플릭스 인기에 '계정 공유' 플랫폼 성황  [6]\n",
      "  美, 화웨이 이은 ‘틱톡’ … 제2 보안 위협 지목  [2]\n",
      "  [이진욱의 전자수첩] '폴더블폰' 기다렸더니…'경첩' 내미는 LG의 짠내  [3]\n",
      "  LG전자 비밀병기 '듀얼 디스플레이폰'의 정체   [4]\n",
      "  LG전자, 스마트폰 위축속 TV도 '안갯속'…OLED 치킨게임 전초전  \n",
      "  LG전자, MC부진으로 충격적 '어닝쇼크'…권봉석 사장 체제 '흔들'  [3]\n",
      "  ‘영업익 3조’ 꿈 무너진 LG전자, 발목 잡은 스마트폰 15분기 연속적자(종합)  [2]\n",
      "  삼성은 하는데…LG전자, 올해부터 게임 등급 못 매긴다  [1]\n",
      "  \"과징금 낼래, 특허訴 포기할래\"…삼성·SK 반도체 '겁박'한 중국  [3]\n",
      "  내년도 암울한 LG 스마트폰, '사업본부' 지위도 반납?   [1]\n",
      "  LG전자, '초콜릿폰' 주역 전면에…후속 조직개편 마무리   [3]\n",
      "  방탄소년단 모델로 앞세운 구광모 회장의 '실패작' LG폰의 충격 근황  [3]\n",
      "  \"LG전자 갑질에 공장 문닫게 됐다\" 정의당, '불공정·갑질 피해 증언대회'서 피해 업체 '울분'  [1]\n",
      "  소니코리아, 시그니처 시리즈 뮤직 플레이어·이어폰 출시  [4]\n",
      "  역대 최악' 삼성 스마트폰 사업..올해 최대성과급 기대 못해  [7]\n",
      "  애플, 또 한국 차별…\"애플케어+ 가입 차단\"  [14]\n",
      "  피아톤 무선 이어폰, 와디즈에서 10분만에 1억원 펀딩  [1]\n",
      "  LG전자, 1년만에 MC사업본부장 교체  [3]\n",
      "  애플 \"아이폰XR은 최고 인기모델\"  [12]\n",
      "  슈어 수입사 삼아사운드 일본에 팔려  [1]\n",
      "  7인치 화면 시대 열리는데…'접으면 4인치' 폴더블폰 성공할까  [13]\n",
      "  \"삼성 스마트폰, 중국서 3분기 60만대만 판매\"  \n",
      "  中 광군제 애플·삼성 스마트폰 매출 '희비'  [5]\n",
      "  양진호, 거의 모든 직원 전화 도청했다  [6]\n",
      "  삼성, 자사 폰 모델들에 노치 디자인 채용 암시  [3]\n",
      "  LG전자, 새로운 스마트폰 디자인 특허 '너무 올드해'  [10]\n",
      "  새로운 iPad 프로 거의 모든 모델의 배송 기간, 11월 말 혹은 12월 초로 지연돼  [2]\n",
      "  고속도로 교통정보 앱 치명적 오류…\"폰 내부 데이터 삭제\"  [19]\n",
      "  하현회 LGU+ 부회장 \"화웨이 소스코드까지 검사할 수 있다\"  [7]\n",
      "  [단독]LG유플, ‘마곡 LG사이언스파크’에 화웨이로 5G망 구축  [2]\n",
      "  ‘역대 최고’ 구글폰 올레드 패널…“알고보니 삼성 제품”  \n",
      "  日·中에 끼인 한국 배터리 산업, 중국에는 출하량 밀리고, 일본엔 기술력 뒤져  [4]\n",
      "  \"게임할 맛 난다\"..`LG 게이밍 노트북` 신제품 출시  [15]\n",
      "  LG전자, 주요 도시에 ‘V40 씽큐’ 체험존운영  \n",
      "  [단독] ‘정도경영’ LG의 탈선…총수일가 10년간 탈세 거래 연루  [7]\n",
      "  LG전자, ‘LG V40 씽큐’ 18일 미국에 가장 먼저 출시  [1]\n",
      "  LG, 스마트폰 브랜드를 어찌할꼬…  [2]\n",
      "  LG V40 해외 매체 리뷰 총정리…\"5개 카메라도 못살린 폰\" 혹평  [1]\n",
      "  ‘5개의 눈’ V40 씽큐, 어디까지 찍을 수 있니?  [3]\n",
      "  LG디스플레이, 생산직 희망퇴직 첫 실시  [1]\n",
      "  “협력업체를 파렴치한으로” LG전자 내부문건 단독공개  [2]\n",
      "  LG전자와 하청업체의 끝나지 않는 싸움  \n",
      "  LG家, 주식거래서 '150억원대 탈세'… 구본능 회장 등 14명 약식기소  \n",
      "  LG이노텍, LG전자 V40씽큐에 멀티플 카메라모듈로 기술력 과시   \n",
      "  안테나게이트 2018 : 내 연구는 오해받고 있다.  \n",
      "  아이폰XS의 안테나는 SW로 해결될 수 없을 것  \n",
      "  왜 사람들이 LG V40 씽큐에 관심이 없을까?  [3]\n",
      "  LG V40 ThinQ 10월 4일 공개...독창적인 카메라 기능 탑재  [4]\n",
      "  LGD, 테스트 완료 전 OLED 애플라인 가동 강행   \n",
      "  LG전자 조성진, 전근대적 노동착취 입막음·은폐 논란  \n",
      "  [단독]핀펫특허 논란 확대…\"TSMC도 침해\"  [4]\n",
      "  애플, 아이폰 배터리 교체비용 20~40달러 올린다   [8]\n",
      "  [단독] LG전자 VC사업본부 배터리 사업 LG화학으로   \n",
      "  [시그널 단독] 흔들리는 LG그룹의 미래 먹거리…LG전자 VC사업부 인력 줄퇴사 사연은  \n",
      "  OLED, 번인 논란 가열…'일반 환경 문제 없다' vs '소재 특성상 불가피'  [2]\n",
      "  아이폰 신제품 3종 공개! 역대 가장 큰 디스플레이 \"한국시각 13일 오전 2시\"  \n",
      "  구글과 함께하는 일상 '구글홈'  [2]\n",
      "  [월요기획] ‘적자 늪’ 모바일 사업, LG는 왜 접지 못 하나  [3]\n",
      "   조성진 LG전자 부회장, 스마트폰 '부진' 불구 느긋한 이유  [2]\n",
      "  LG전자, BTS 마케팅 강화…효과 미지수라는데   [2]\n",
      "  샤오미 '포코 F1' 카메라 샘플…알고보니 '미 믹스2S'로 찍은 사진  \n",
      "  [잇츠IT] LG는 왜 비슷한 스마트폰들을 내놓을까  [1]\n",
      "  조성진 성공 방정식, 핸드폰에는 왜 안통할까?  [2]\n",
      "  갤럭시노트9 빛샘 현상… 조립 불량 vs 광원 반사  [1]\n",
      "  충격반전, 갤럭시노트9와 픽셀2 XL의 야간사진 대결 결과?  [2]\n",
      "  ‘업그레이드 LG’ 실현… 스마트폰 사후지원 총력  [2]\n",
      "  'LG G5' 안드로이드 8.0 오레오 업데이트 개시.. 달라진 점은?  [1]\n",
      "  삼성 갤S7 사용자들 \"OS 업데이트 후 발열·무한부팅\" 주장  [1]\n",
      "  안드로이드 펌웨어 취약점 발견…LG·ZTE 등 해당  [3]\n",
      "  LG V35, 아마존에서 28만원 할인 판매  [3]\n",
      "  글로벌 지도 서비스 '히어', 2018년 상반기 위치기반 플랫폼 서비스 1위 올라  [2]\n",
      "  중국 출시 앞둔 갤럭시노트9 사전예약 한숨  [출처: 중앙일보]  [4]\n",
      "  LG전자, 하반기 전략폰 V40 물량 확 줄였다  [3]\n",
      "  [LG전자 국제적 망신] 칠레법인 임원, ‘1억대 뇌물 비리’로 고발..위상 ‘추락’  \n",
      "  [時時骨骨]'디자인 명가' LG전자, 퇴짜 당한 사연  \n",
      "  삼성, 갤럭시노트9 공개 맞춰 아이폰X 조롱 광고 게재  \n",
      "  “LG폰, 정말 잘됐으면 좋겠다!”…삼성 '갤럭시' 수장 고동진 사장의 진심  [2]\n",
      "  갤럭시노트9 예판 첫날…분위기는 '미지근'  \n",
      "  갤노트9, 美서 예약하면 '반값'…국내서 예약하면 '봉'  [1]\n",
      "  \"삼성 TV, 불타고 녹는 현상\"..美 소비자 집단소송  [1]\n",
      "  삼성전자-LG전자, 10년전 비슷했던 임직원 급여 시간당 1만3000원꼴 차이나  [3]\n",
      "  LG전자 이익의 질, 10년새 73.6%P ‘악화’  [1]\n",
      "  LG 내달 G7 파생모델 출시... 재고부품 소진 나섰다  [8]\n",
      "  자꾸 하나씩 없어지는 에어팟에 짜증났던 남성이 선택한 방법  [1]\n",
      "  [뉴비ⓔCEO] 구광모 LG 회장의 대망 ③‘일감몰아주기 귀재’ 오명  \n",
      "  美 IT 전문매체 “스마트폰 배터리, 화웨이 1위-LG 꼴찌”  \n",
      "  '아래한글'에서 이완용은 되고, 안중근은 안 되는 한자변환 기능  [7]\n",
      "  풍선처럼 부푼 아이폰 배터리…\"90일 지났으니 돈 내라\"  [2]\n",
      "  삼성전자 GPU 개발, 스마트폰에서 슈퍼컴퓨터까지 대응?  [6]\n",
      "  LG전자, 특허괴물 '와이랜'에 특허침해 피소  \n",
      "  LG 구광모 회장, 아픈손가락 'MC사업부' 철수 가능성은?  \n",
      "  '삼성·LG OLED 기술유출' 혐의 받은 오보텍 직원들 '무죄' 확정  [3]\n",
      "  LGD, 65인치 8K OLED 양산 어려워지나  [2]\n",
      "  삼성, 빅스비 2.0 드디어 출시  \n",
      "  삼성전자, 3D낸드에서 도시바메모리와 웨스턴디지털에 바짝 쫓겨  [3]\n",
      "  구글의 새 모바일 OS, 삼성전자 스마트폰 경쟁력 강화에 보탬  [1]\n",
      "  삼성 AI 스피커, 이름은 ‘매그비(MAGBEE)’  \n",
      "  내년 출시 삼성 폴더블폰 갤럭시X '7가지 특징'  \n",
      "  모틀리 풀 \"애플, 美 휴대전화 시장에서 삼성전자 따라잡았다\"  \n",
      "  애플페이와 구글페이의 한국 상륙은 왜 자꾸 늦어질까  \n",
      "  삼성페이, 애플페이 구글페이 들어와도 선두 지킬 수 있나  \n",
      "  인텔 '차세대 메모리반도체' 도전 실패, 삼성전자 입지 더 강력해져  \n",
      "  샤오미 폰, 중국서 발화...입막음 시도에 '시끌'  \n",
      "  구글, EU에 반격…\"안드로이드 공짜시대 끝\"  [3]\n",
      "  삼성 갤럭시S9, 2분기 출하량 감소 '처음'  \n",
      "  미국에서 2분기 애플 스마트폰 점유율 상승, 삼성전자 LG전자 하락  \n",
      "  백운규 “그동안 반도체산업 소홀한 점 반성하고 전력으로 지원”  \n",
      "  'LG 젊은 피' 세대교체···조준호 경영복귀 시계추 빨라지나  \n",
      "  애플, 엔지니어 2700명 투입 애플카 제작중  \n",
      "  [해설] LG, 스마트폰 가격 확 내려...이유는?    \n",
      "  삼성전자, 세계 최초 ‘8Gb LPDDR5 D램’ 개발  [1]\n",
      "  삼성전자, 5세대 V낸드 92단으로 초격차...이유는?  \n",
      "  인텔, 주문형반도체 팹리스 eASIC 인수  [1]\n",
      "  애플이 선택한 아이폰 컬러, 골드와 오렌지, 블루  \n",
      "  LG전자 번인현상, 미국서도 발생  \n",
      "  정은승 삼성전자 사장 \"4차산업혁명, 파운드리가 있어야 가능\"  [3]\n",
      "  갤럭시S10 두뇌 '엑시노스 9820' Mali-G76 GPU 탑재  [4]\n",
      "  삼성전자, 갤럭시S10+에 카메라 5대 장착  [9]\n",
      "  “절정의 반도체, 위기의 경고등 켜졌다” 이종호교수  \n",
      "  '반도체 굴기' 中, 기술 안 훔친다더니… 대만서 '덜미'   [9]\n",
      "  LG전자, 2분기 영업익 7710억원…TV·가전 실적 견인  \n"
     ]
    }
   ],
   "source": [
    "from urllib.request import urlopen\n",
    "from bs4 import BeautifulSoup\n",
    "\n",
    "for j in range(1,6):\n",
    "    res = urlopen('https://www.seeko.kr/zboard4/zboard.php?id=mainnews&page='+ str(j) +'&select_arrange=headnum&desc=asc&category=&sn=off&ss=on&sc=off&keyword=&sn1=&divpage=10')\n",
    "    soup = BeautifulSoup(res, \"html.parser\")\n",
    "    data = soup.find_all('td', 'article_subject')\n",
    "    for i in data:\n",
    "        print(i.get_text())"
   ]
  },
  {
   "cell_type": "markdown",
   "metadata": {},
   "source": [
    "# 크롤링 데이터로 엑셀 파일 만들기  - openpyxl 1"
   ]
  },
  {
   "cell_type": "code",
   "execution_count": 62,
   "metadata": {},
   "outputs": [],
   "source": [
    "import openpyxl\n",
    "\n",
    "excel_file = openpyxl.Workbook()\n",
    "excel_sheet = excel_file.active\n",
    "\n",
    "excel_sheet.column_dimensions['B'].width = 100\n",
    "\n",
    "for i in range(9):\n",
    "    excel_sheet.append((i,'안녕'))\n",
    "                   \n",
    "excel_sheet['A1'].alignment = openpyxl.styles.Alignment(horizontal=\"center\")\n",
    "excel_sheet['B1'].alignment = openpyxl.styles.Alignment(horizontal=\"center\")\n",
    "\n",
    "excel_file.save('test.xlsx')\n",
    "excel_file.close()\n"
   ]
  },
  {
   "cell_type": "markdown",
   "metadata": {},
   "source": [
    "## 크롤링 + EXCEL 파일 생성"
   ]
  },
  {
   "cell_type": "code",
   "execution_count": 63,
   "metadata": {},
   "outputs": [
    {
     "name": "stdout",
     "output_type": "stream",
     "text": [
      "  삼성 갤럭시 벤치마크 부스터 부정행위로 집단소송 280만달러에 합의.  \n",
      "  화웨이 제품 500개 넘게 조사했더니 취약점이 한 가득  [1]\n",
      "  죽지도 않고 또 왔네 : 애플 아이팟 터치 7세대  [2]\n",
      "  갤럭시 폴드 출시 연기 ㅋㅋ  [5]\n",
      "  월 1만원 아끼려고…넷플릭스 인기에 '계정 공유' 플랫폼 성황  [6]\n",
      "  美, 화웨이 이은 ‘틱톡’ … 제2 보안 위협 지목  [2]\n",
      "  [이진욱의 전자수첩] '폴더블폰' 기다렸더니…'경첩' 내미는 LG의 짠내  [3]\n",
      "  LG전자 비밀병기 '듀얼 디스플레이폰'의 정체   [4]\n",
      "  LG전자, 스마트폰 위축속 TV도 '안갯속'…OLED 치킨게임 전초전  \n",
      "  LG전자, MC부진으로 충격적 '어닝쇼크'…권봉석 사장 체제 '흔들'  [3]\n",
      "  ‘영업익 3조’ 꿈 무너진 LG전자, 발목 잡은 스마트폰 15분기 연속적자(종합)  [2]\n",
      "  삼성은 하는데…LG전자, 올해부터 게임 등급 못 매긴다  [1]\n",
      "  \"과징금 낼래, 특허訴 포기할래\"…삼성·SK 반도체 '겁박'한 중국  [3]\n",
      "  내년도 암울한 LG 스마트폰, '사업본부' 지위도 반납?   [1]\n",
      "  LG전자, '초콜릿폰' 주역 전면에…후속 조직개편 마무리   [3]\n",
      "  방탄소년단 모델로 앞세운 구광모 회장의 '실패작' LG폰의 충격 근황  [3]\n",
      "  \"LG전자 갑질에 공장 문닫게 됐다\" 정의당, '불공정·갑질 피해 증언대회'서 피해 업체 '울분'  [1]\n",
      "  소니코리아, 시그니처 시리즈 뮤직 플레이어·이어폰 출시  [4]\n",
      "  역대 최악' 삼성 스마트폰 사업..올해 최대성과급 기대 못해  [7]\n",
      "  애플, 또 한국 차별…\"애플케어+ 가입 차단\"  [14]\n",
      "  피아톤 무선 이어폰, 와디즈에서 10분만에 1억원 펀딩  [1]\n",
      "  LG전자, 1년만에 MC사업본부장 교체  [3]\n",
      "  애플 \"아이폰XR은 최고 인기모델\"  [12]\n",
      "  슈어 수입사 삼아사운드 일본에 팔려  [1]\n",
      "  7인치 화면 시대 열리는데…'접으면 4인치' 폴더블폰 성공할까  [13]\n",
      "  \"삼성 스마트폰, 중국서 3분기 60만대만 판매\"  \n",
      "  中 광군제 애플·삼성 스마트폰 매출 '희비'  [5]\n",
      "  양진호, 거의 모든 직원 전화 도청했다  [6]\n",
      "  삼성, 자사 폰 모델들에 노치 디자인 채용 암시  [3]\n",
      "  LG전자, 새로운 스마트폰 디자인 특허 '너무 올드해'  [10]\n",
      "  새로운 iPad 프로 거의 모든 모델의 배송 기간, 11월 말 혹은 12월 초로 지연돼  [2]\n",
      "  고속도로 교통정보 앱 치명적 오류…\"폰 내부 데이터 삭제\"  [19]\n",
      "  하현회 LGU+ 부회장 \"화웨이 소스코드까지 검사할 수 있다\"  [7]\n",
      "  [단독]LG유플, ‘마곡 LG사이언스파크’에 화웨이로 5G망 구축  [2]\n",
      "  ‘역대 최고’ 구글폰 올레드 패널…“알고보니 삼성 제품”  \n",
      "  日·中에 끼인 한국 배터리 산업, 중국에는 출하량 밀리고, 일본엔 기술력 뒤져  [4]\n",
      "  \"게임할 맛 난다\"..`LG 게이밍 노트북` 신제품 출시  [15]\n",
      "  LG전자, 주요 도시에 ‘V40 씽큐’ 체험존운영  \n",
      "  [단독] ‘정도경영’ LG의 탈선…총수일가 10년간 탈세 거래 연루  [7]\n",
      "  LG전자, ‘LG V40 씽큐’ 18일 미국에 가장 먼저 출시  [1]\n",
      "  LG, 스마트폰 브랜드를 어찌할꼬…  [2]\n",
      "  LG V40 해외 매체 리뷰 총정리…\"5개 카메라도 못살린 폰\" 혹평  [1]\n",
      "  ‘5개의 눈’ V40 씽큐, 어디까지 찍을 수 있니?  [3]\n",
      "  LG디스플레이, 생산직 희망퇴직 첫 실시  [1]\n",
      "  “협력업체를 파렴치한으로” LG전자 내부문건 단독공개  [2]\n",
      "  LG전자와 하청업체의 끝나지 않는 싸움  \n",
      "  LG家, 주식거래서 '150억원대 탈세'… 구본능 회장 등 14명 약식기소  \n",
      "  LG이노텍, LG전자 V40씽큐에 멀티플 카메라모듈로 기술력 과시   \n",
      "  안테나게이트 2018 : 내 연구는 오해받고 있다.  \n",
      "  아이폰XS의 안테나는 SW로 해결될 수 없을 것  \n",
      "  왜 사람들이 LG V40 씽큐에 관심이 없을까?  [3]\n",
      "  LG V40 ThinQ 10월 4일 공개...독창적인 카메라 기능 탑재  [4]\n",
      "  LGD, 테스트 완료 전 OLED 애플라인 가동 강행   \n",
      "  LG전자 조성진, 전근대적 노동착취 입막음·은폐 논란  \n",
      "  [단독]핀펫특허 논란 확대…\"TSMC도 침해\"  [4]\n",
      "  애플, 아이폰 배터리 교체비용 20~40달러 올린다   [8]\n",
      "  [단독] LG전자 VC사업본부 배터리 사업 LG화학으로   \n",
      "  [시그널 단독] 흔들리는 LG그룹의 미래 먹거리…LG전자 VC사업부 인력 줄퇴사 사연은  \n",
      "  OLED, 번인 논란 가열…'일반 환경 문제 없다' vs '소재 특성상 불가피'  [2]\n",
      "  아이폰 신제품 3종 공개! 역대 가장 큰 디스플레이 \"한국시각 13일 오전 2시\"  \n",
      "  구글과 함께하는 일상 '구글홈'  [2]\n",
      "  [월요기획] ‘적자 늪’ 모바일 사업, LG는 왜 접지 못 하나  [3]\n",
      "   조성진 LG전자 부회장, 스마트폰 '부진' 불구 느긋한 이유  [2]\n",
      "  LG전자, BTS 마케팅 강화…효과 미지수라는데   [2]\n",
      "  샤오미 '포코 F1' 카메라 샘플…알고보니 '미 믹스2S'로 찍은 사진  \n",
      "  [잇츠IT] LG는 왜 비슷한 스마트폰들을 내놓을까  [1]\n",
      "  조성진 성공 방정식, 핸드폰에는 왜 안통할까?  [2]\n",
      "  갤럭시노트9 빛샘 현상… 조립 불량 vs 광원 반사  [1]\n",
      "  충격반전, 갤럭시노트9와 픽셀2 XL의 야간사진 대결 결과?  [2]\n",
      "  ‘업그레이드 LG’ 실현… 스마트폰 사후지원 총력  [2]\n",
      "  'LG G5' 안드로이드 8.0 오레오 업데이트 개시.. 달라진 점은?  [1]\n",
      "  삼성 갤S7 사용자들 \"OS 업데이트 후 발열·무한부팅\" 주장  [1]\n",
      "  안드로이드 펌웨어 취약점 발견…LG·ZTE 등 해당  [3]\n",
      "  LG V35, 아마존에서 28만원 할인 판매  [3]\n",
      "  글로벌 지도 서비스 '히어', 2018년 상반기 위치기반 플랫폼 서비스 1위 올라  [2]\n",
      "  중국 출시 앞둔 갤럭시노트9 사전예약 한숨  [출처: 중앙일보]  [4]\n",
      "  LG전자, 하반기 전략폰 V40 물량 확 줄였다  [3]\n",
      "  [LG전자 국제적 망신] 칠레법인 임원, ‘1억대 뇌물 비리’로 고발..위상 ‘추락’  \n",
      "  [時時骨骨]'디자인 명가' LG전자, 퇴짜 당한 사연  \n",
      "  삼성, 갤럭시노트9 공개 맞춰 아이폰X 조롱 광고 게재  \n",
      "  “LG폰, 정말 잘됐으면 좋겠다!”…삼성 '갤럭시' 수장 고동진 사장의 진심  [2]\n",
      "  갤럭시노트9 예판 첫날…분위기는 '미지근'  \n",
      "  갤노트9, 美서 예약하면 '반값'…국내서 예약하면 '봉'  [1]\n",
      "  \"삼성 TV, 불타고 녹는 현상\"..美 소비자 집단소송  [1]\n",
      "  삼성전자-LG전자, 10년전 비슷했던 임직원 급여 시간당 1만3000원꼴 차이나  [3]\n",
      "  LG전자 이익의 질, 10년새 73.6%P ‘악화’  [1]\n",
      "  LG 내달 G7 파생모델 출시... 재고부품 소진 나섰다  [8]\n",
      "  자꾸 하나씩 없어지는 에어팟에 짜증났던 남성이 선택한 방법  [1]\n",
      "  [뉴비ⓔCEO] 구광모 LG 회장의 대망 ③‘일감몰아주기 귀재’ 오명  \n",
      "  美 IT 전문매체 “스마트폰 배터리, 화웨이 1위-LG 꼴찌”  \n",
      "  '아래한글'에서 이완용은 되고, 안중근은 안 되는 한자변환 기능  [7]\n",
      "  풍선처럼 부푼 아이폰 배터리…\"90일 지났으니 돈 내라\"  [2]\n",
      "  삼성전자 GPU 개발, 스마트폰에서 슈퍼컴퓨터까지 대응?  [6]\n",
      "  LG전자, 특허괴물 '와이랜'에 특허침해 피소  \n",
      "  LG 구광모 회장, 아픈손가락 'MC사업부' 철수 가능성은?  \n",
      "  '삼성·LG OLED 기술유출' 혐의 받은 오보텍 직원들 '무죄' 확정  [3]\n",
      "  LGD, 65인치 8K OLED 양산 어려워지나  [2]\n",
      "  삼성, 빅스비 2.0 드디어 출시  \n",
      "  삼성전자, 3D낸드에서 도시바메모리와 웨스턴디지털에 바짝 쫓겨  [3]\n",
      "  구글의 새 모바일 OS, 삼성전자 스마트폰 경쟁력 강화에 보탬  [1]\n",
      "  삼성 AI 스피커, 이름은 ‘매그비(MAGBEE)’  \n",
      "  내년 출시 삼성 폴더블폰 갤럭시X '7가지 특징'  \n",
      "  모틀리 풀 \"애플, 美 휴대전화 시장에서 삼성전자 따라잡았다\"  \n",
      "  애플페이와 구글페이의 한국 상륙은 왜 자꾸 늦어질까  \n",
      "  삼성페이, 애플페이 구글페이 들어와도 선두 지킬 수 있나  \n",
      "  인텔 '차세대 메모리반도체' 도전 실패, 삼성전자 입지 더 강력해져  \n",
      "  샤오미 폰, 중국서 발화...입막음 시도에 '시끌'  \n",
      "  구글, EU에 반격…\"안드로이드 공짜시대 끝\"  [3]\n",
      "  삼성 갤럭시S9, 2분기 출하량 감소 '처음'  \n",
      "  미국에서 2분기 애플 스마트폰 점유율 상승, 삼성전자 LG전자 하락  \n",
      "  백운규 “그동안 반도체산업 소홀한 점 반성하고 전력으로 지원”  \n",
      "  'LG 젊은 피' 세대교체···조준호 경영복귀 시계추 빨라지나  \n",
      "  애플, 엔지니어 2700명 투입 애플카 제작중  \n",
      "  [해설] LG, 스마트폰 가격 확 내려...이유는?    \n",
      "  삼성전자, 세계 최초 ‘8Gb LPDDR5 D램’ 개발  [1]\n",
      "  삼성전자, 5세대 V낸드 92단으로 초격차...이유는?  \n",
      "  인텔, 주문형반도체 팹리스 eASIC 인수  [1]\n",
      "  애플이 선택한 아이폰 컬러, 골드와 오렌지, 블루  \n",
      "  LG전자 번인현상, 미국서도 발생  \n",
      "  정은승 삼성전자 사장 \"4차산업혁명, 파운드리가 있어야 가능\"  [3]\n",
      "  갤럭시S10 두뇌 '엑시노스 9820' Mali-G76 GPU 탑재  [4]\n",
      "  삼성전자, 갤럭시S10+에 카메라 5대 장착  [9]\n",
      "  “절정의 반도체, 위기의 경고등 켜졌다” 이종호교수  \n",
      "  '반도체 굴기' 中, 기술 안 훔친다더니… 대만서 '덜미'   [9]\n",
      "  LG전자, 2분기 영업익 7710억원…TV·가전 실적 견인  \n"
     ]
    }
   ],
   "source": [
    "from urllib.request import urlopen\n",
    "from bs4 import BeautifulSoup\n",
    "import openpyxl\n",
    "\n",
    "excel_file = openpyxl.Workbook()\n",
    "excel_sheet = excel_file.active\n",
    "\n",
    "excel_sheet.column_dimensions['B'].width = 100\n",
    "k = 0\n",
    "excel_sheet.append(['번호', '제목'])\n",
    "for j in range(1,6):\n",
    "    res = urlopen('https://www.seeko.kr/zboard4/zboard.php?id=mainnews&page='+ str(j) +'&select_arrange=headnum&desc=asc&category=&sn=off&ss=on&sc=off&keyword=&sn1=&divpage=10')\n",
    "    soup = BeautifulSoup(res, \"html.parser\")\n",
    "    data = soup.find_all('td', 'article_subject')\n",
    "    for i in data:\n",
    "        print(i.get_text())\n",
    "        k += 1\n",
    "        excel_sheet.append([k, i.get_text()])\n",
    "\n",
    "excel_sheet['A1'].alignment = openpyxl.styles.Alignment(horizontal=\"center\")\n",
    "excel_sheet['B1'].alignment = openpyxl.styles.Alignment(horizontal=\"center\")\n",
    "        \n",
    "excel_file.save('IT.xlsx')\n",
    "excel_file.close()"
   ]
  },
  {
   "cell_type": "markdown",
   "metadata": {},
   "source": [
    "# 크롤링 데이터로 엑셀 파일 읽기  - openpyxl 2"
   ]
  },
  {
   "cell_type": "code",
   "execution_count": 65,
   "metadata": {},
   "outputs": [],
   "source": [
    "import openpyxl\n",
    "\n",
    "excel_file = openpyxl.Workbook()\n",
    "excel_file.remove(excel_file['Sheet'])  # excel_file.remove(excel_file.active)   # 처음 시트 삭제\n",
    "\n",
    "excel_sheet = excel_file.create_sheet('IT뉴스') # 시트 추가\n",
    "\n",
    "excel_sheet.column_dimensions['B'].width = 100\n",
    "\n",
    "for i in range(9):\n",
    "    excel_sheet.append((i,'안녕'))\n",
    "                   \n",
    "excel_sheet['A1'].alignment = openpyxl.styles.Alignment(horizontal=\"center\")\n",
    "excel_sheet['B1'].alignment = openpyxl.styles.Alignment(horizontal=\"center\")\n",
    "\n",
    "excel_file.save('test.xlsx')\n",
    "excel_file.close()"
   ]
  },
  {
   "cell_type": "code",
   "execution_count": 70,
   "metadata": {},
   "outputs": [
    {
     "name": "stdout",
     "output_type": "stream",
     "text": [
      "번호 제목\n",
      "1   삼성 갤럭시 벤치마크 부스터 부정행위로 집단소송 280만달러에 합의.  \n",
      "2   화웨이 제품 500개 넘게 조사했더니 취약점이 한 가득  [1]\n",
      "3   죽지도 않고 또 왔네 : 애플 아이팟 터치 7세대  [2]\n",
      "4   갤럭시 폴드 출시 연기 ㅋㅋ  [5]\n",
      "5   월 1만원 아끼려고…넷플릭스 인기에 '계정 공유' 플랫폼 성황  [6]\n",
      "6   美, 화웨이 이은 ‘틱톡’ … 제2 보안 위협 지목  [2]\n",
      "7   [이진욱의 전자수첩] '폴더블폰' 기다렸더니…'경첩' 내미는 LG의 짠내  [3]\n",
      "8   LG전자 비밀병기 '듀얼 디스플레이폰'의 정체   [4]\n",
      "9   LG전자, 스마트폰 위축속 TV도 '안갯속'…OLED 치킨게임 전초전  \n",
      "10   LG전자, MC부진으로 충격적 '어닝쇼크'…권봉석 사장 체제 '흔들'  [3]\n",
      "11   ‘영업익 3조’ 꿈 무너진 LG전자, 발목 잡은 스마트폰 15분기 연속적자(종합)  [2]\n",
      "12   삼성은 하는데…LG전자, 올해부터 게임 등급 못 매긴다  [1]\n",
      "13   \"과징금 낼래, 특허訴 포기할래\"…삼성·SK 반도체 '겁박'한 중국  [3]\n",
      "14   내년도 암울한 LG 스마트폰, '사업본부' 지위도 반납?   [1]\n",
      "15   LG전자, '초콜릿폰' 주역 전면에…후속 조직개편 마무리   [3]\n",
      "16   방탄소년단 모델로 앞세운 구광모 회장의 '실패작' LG폰의 충격 근황  [3]\n",
      "17   \"LG전자 갑질에 공장 문닫게 됐다\" 정의당, '불공정·갑질 피해 증언대회'서 피해 업체 '울분'  [1]\n",
      "18   소니코리아, 시그니처 시리즈 뮤직 플레이어·이어폰 출시  [4]\n",
      "19   역대 최악' 삼성 스마트폰 사업..올해 최대성과급 기대 못해  [7]\n",
      "20   애플, 또 한국 차별…\"애플케어+ 가입 차단\"  [14]\n",
      "21   피아톤 무선 이어폰, 와디즈에서 10분만에 1억원 펀딩  [1]\n",
      "22   LG전자, 1년만에 MC사업본부장 교체  [3]\n",
      "23   애플 \"아이폰XR은 최고 인기모델\"  [12]\n",
      "24   슈어 수입사 삼아사운드 일본에 팔려  [1]\n",
      "25   7인치 화면 시대 열리는데…'접으면 4인치' 폴더블폰 성공할까  [13]\n",
      "26   \"삼성 스마트폰, 중국서 3분기 60만대만 판매\"  \n",
      "27   中 광군제 애플·삼성 스마트폰 매출 '희비'  [5]\n",
      "28   양진호, 거의 모든 직원 전화 도청했다  [6]\n",
      "29   삼성, 자사 폰 모델들에 노치 디자인 채용 암시  [3]\n",
      "30   LG전자, 새로운 스마트폰 디자인 특허 '너무 올드해'  [10]\n",
      "31   새로운 iPad 프로 거의 모든 모델의 배송 기간, 11월 말 혹은 12월 초로 지연돼  [2]\n",
      "32   고속도로 교통정보 앱 치명적 오류…\"폰 내부 데이터 삭제\"  [19]\n",
      "33   하현회 LGU+ 부회장 \"화웨이 소스코드까지 검사할 수 있다\"  [7]\n",
      "34   [단독]LG유플, ‘마곡 LG사이언스파크’에 화웨이로 5G망 구축  [2]\n",
      "35   ‘역대 최고’ 구글폰 올레드 패널…“알고보니 삼성 제품”  \n",
      "36   日·中에 끼인 한국 배터리 산업, 중국에는 출하량 밀리고, 일본엔 기술력 뒤져  [4]\n",
      "37   \"게임할 맛 난다\"..`LG 게이밍 노트북` 신제품 출시  [15]\n",
      "38   LG전자, 주요 도시에 ‘V40 씽큐’ 체험존운영  \n",
      "39   [단독] ‘정도경영’ LG의 탈선…총수일가 10년간 탈세 거래 연루  [7]\n",
      "40   LG전자, ‘LG V40 씽큐’ 18일 미국에 가장 먼저 출시  [1]\n",
      "41   LG, 스마트폰 브랜드를 어찌할꼬…  [2]\n",
      "42   LG V40 해외 매체 리뷰 총정리…\"5개 카메라도 못살린 폰\" 혹평  [1]\n",
      "43   ‘5개의 눈’ V40 씽큐, 어디까지 찍을 수 있니?  [3]\n",
      "44   LG디스플레이, 생산직 희망퇴직 첫 실시  [1]\n",
      "45   “협력업체를 파렴치한으로” LG전자 내부문건 단독공개  [2]\n",
      "46   LG전자와 하청업체의 끝나지 않는 싸움  \n",
      "47   LG家, 주식거래서 '150억원대 탈세'… 구본능 회장 등 14명 약식기소  \n",
      "48   LG이노텍, LG전자 V40씽큐에 멀티플 카메라모듈로 기술력 과시   \n",
      "49   안테나게이트 2018 : 내 연구는 오해받고 있다.  \n",
      "50   아이폰XS의 안테나는 SW로 해결될 수 없을 것  \n",
      "51   왜 사람들이 LG V40 씽큐에 관심이 없을까?  [3]\n",
      "52   LG V40 ThinQ 10월 4일 공개...독창적인 카메라 기능 탑재  [4]\n",
      "53   LGD, 테스트 완료 전 OLED 애플라인 가동 강행   \n",
      "54   LG전자 조성진, 전근대적 노동착취 입막음·은폐 논란  \n",
      "55   [단독]핀펫특허 논란 확대…\"TSMC도 침해\"  [4]\n",
      "56   애플, 아이폰 배터리 교체비용 20~40달러 올린다   [8]\n",
      "57   [단독] LG전자 VC사업본부 배터리 사업 LG화학으로   \n",
      "58   [시그널 단독] 흔들리는 LG그룹의 미래 먹거리…LG전자 VC사업부 인력 줄퇴사 사연은  \n",
      "59   OLED, 번인 논란 가열…'일반 환경 문제 없다' vs '소재 특성상 불가피'  [2]\n",
      "60   아이폰 신제품 3종 공개! 역대 가장 큰 디스플레이 \"한국시각 13일 오전 2시\"  \n",
      "61   구글과 함께하는 일상 '구글홈'  [2]\n",
      "62   [월요기획] ‘적자 늪’ 모바일 사업, LG는 왜 접지 못 하나  [3]\n",
      "63    조성진 LG전자 부회장, 스마트폰 '부진' 불구 느긋한 이유  [2]\n",
      "64   LG전자, BTS 마케팅 강화…효과 미지수라는데   [2]\n",
      "65   샤오미 '포코 F1' 카메라 샘플…알고보니 '미 믹스2S'로 찍은 사진  \n",
      "66   [잇츠IT] LG는 왜 비슷한 스마트폰들을 내놓을까  [1]\n",
      "67   조성진 성공 방정식, 핸드폰에는 왜 안통할까?  [2]\n",
      "68   갤럭시노트9 빛샘 현상… 조립 불량 vs 광원 반사  [1]\n",
      "69   충격반전, 갤럭시노트9와 픽셀2 XL의 야간사진 대결 결과?  [2]\n",
      "70   ‘업그레이드 LG’ 실현… 스마트폰 사후지원 총력  [2]\n",
      "71   'LG G5' 안드로이드 8.0 오레오 업데이트 개시.. 달라진 점은?  [1]\n",
      "72   삼성 갤S7 사용자들 \"OS 업데이트 후 발열·무한부팅\" 주장  [1]\n",
      "73   안드로이드 펌웨어 취약점 발견…LG·ZTE 등 해당  [3]\n",
      "74   LG V35, 아마존에서 28만원 할인 판매  [3]\n",
      "75   글로벌 지도 서비스 '히어', 2018년 상반기 위치기반 플랫폼 서비스 1위 올라  [2]\n",
      "76   중국 출시 앞둔 갤럭시노트9 사전예약 한숨  [출처: 중앙일보]  [4]\n",
      "77   LG전자, 하반기 전략폰 V40 물량 확 줄였다  [3]\n",
      "78   [LG전자 국제적 망신] 칠레법인 임원, ‘1억대 뇌물 비리’로 고발..위상 ‘추락’  \n",
      "79   [時時骨骨]'디자인 명가' LG전자, 퇴짜 당한 사연  \n",
      "80   삼성, 갤럭시노트9 공개 맞춰 아이폰X 조롱 광고 게재  \n",
      "81   “LG폰, 정말 잘됐으면 좋겠다!”…삼성 '갤럭시' 수장 고동진 사장의 진심  [2]\n",
      "82   갤럭시노트9 예판 첫날…분위기는 '미지근'  \n",
      "83   갤노트9, 美서 예약하면 '반값'…국내서 예약하면 '봉'  [1]\n",
      "84   \"삼성 TV, 불타고 녹는 현상\"..美 소비자 집단소송  [1]\n",
      "85   삼성전자-LG전자, 10년전 비슷했던 임직원 급여 시간당 1만3000원꼴 차이나  [3]\n",
      "86   LG전자 이익의 질, 10년새 73.6%P ‘악화’  [1]\n",
      "87   LG 내달 G7 파생모델 출시... 재고부품 소진 나섰다  [8]\n",
      "88   자꾸 하나씩 없어지는 에어팟에 짜증났던 남성이 선택한 방법  [1]\n",
      "89   [뉴비ⓔCEO] 구광모 LG 회장의 대망 ③‘일감몰아주기 귀재’ 오명  \n",
      "90   美 IT 전문매체 “스마트폰 배터리, 화웨이 1위-LG 꼴찌”  \n",
      "91   '아래한글'에서 이완용은 되고, 안중근은 안 되는 한자변환 기능  [7]\n",
      "92   풍선처럼 부푼 아이폰 배터리…\"90일 지났으니 돈 내라\"  [2]\n",
      "93   삼성전자 GPU 개발, 스마트폰에서 슈퍼컴퓨터까지 대응?  [6]\n",
      "94   LG전자, 특허괴물 '와이랜'에 특허침해 피소  \n",
      "95   LG 구광모 회장, 아픈손가락 'MC사업부' 철수 가능성은?  \n",
      "96   '삼성·LG OLED 기술유출' 혐의 받은 오보텍 직원들 '무죄' 확정  [3]\n",
      "97   LGD, 65인치 8K OLED 양산 어려워지나  [2]\n",
      "98   삼성, 빅스비 2.0 드디어 출시  \n",
      "99   삼성전자, 3D낸드에서 도시바메모리와 웨스턴디지털에 바짝 쫓겨  [3]\n",
      "100   구글의 새 모바일 OS, 삼성전자 스마트폰 경쟁력 강화에 보탬  [1]\n",
      "101   삼성 AI 스피커, 이름은 ‘매그비(MAGBEE)’  \n",
      "102   내년 출시 삼성 폴더블폰 갤럭시X '7가지 특징'  \n",
      "103   모틀리 풀 \"애플, 美 휴대전화 시장에서 삼성전자 따라잡았다\"  \n",
      "104   애플페이와 구글페이의 한국 상륙은 왜 자꾸 늦어질까  \n",
      "105   삼성페이, 애플페이 구글페이 들어와도 선두 지킬 수 있나  \n",
      "106   인텔 '차세대 메모리반도체' 도전 실패, 삼성전자 입지 더 강력해져  \n",
      "107   샤오미 폰, 중국서 발화...입막음 시도에 '시끌'  \n",
      "108   구글, EU에 반격…\"안드로이드 공짜시대 끝\"  [3]\n",
      "109   삼성 갤럭시S9, 2분기 출하량 감소 '처음'  \n",
      "110   미국에서 2분기 애플 스마트폰 점유율 상승, 삼성전자 LG전자 하락  \n",
      "111   백운규 “그동안 반도체산업 소홀한 점 반성하고 전력으로 지원”  \n",
      "112   'LG 젊은 피' 세대교체···조준호 경영복귀 시계추 빨라지나  \n",
      "113   애플, 엔지니어 2700명 투입 애플카 제작중  \n",
      "114   [해설] LG, 스마트폰 가격 확 내려...이유는?    \n",
      "115   삼성전자, 세계 최초 ‘8Gb LPDDR5 D램’ 개발  [1]\n",
      "116   삼성전자, 5세대 V낸드 92단으로 초격차...이유는?  \n",
      "117   인텔, 주문형반도체 팹리스 eASIC 인수  [1]\n",
      "118   애플이 선택한 아이폰 컬러, 골드와 오렌지, 블루  \n",
      "119   LG전자 번인현상, 미국서도 발생  \n",
      "120   정은승 삼성전자 사장 \"4차산업혁명, 파운드리가 있어야 가능\"  [3]\n",
      "121   갤럭시S10 두뇌 '엑시노스 9820' Mali-G76 GPU 탑재  [4]\n",
      "122   삼성전자, 갤럭시S10+에 카메라 5대 장착  [9]\n",
      "123   “절정의 반도체, 위기의 경고등 켜졌다” 이종호교수  \n",
      "124   '반도체 굴기' 中, 기술 안 훔친다더니… 대만서 '덜미'   [9]\n",
      "125   LG전자, 2분기 영업익 7710억원…TV·가전 실적 견인  \n"
     ]
    }
   ],
   "source": [
    "import openpyxl\n",
    "\n",
    "excel_file = openpyxl.load_workbook('IT.xlsx')\n",
    "excel_sheet = excel_file.active \n",
    "# excel_sheet = excel_file.get_sheet_by_name['IT뉴스']\n",
    "\n",
    "for row in excel_sheet.rows:\n",
    "    print(row[0].value, row[1].value)\n",
    "    \n",
    "excel_file.close()"
   ]
  },
  {
   "cell_type": "code",
   "execution_count": null,
   "metadata": {},
   "outputs": [],
   "source": []
  },
  {
   "cell_type": "code",
   "execution_count": null,
   "metadata": {},
   "outputs": [],
   "source": []
  },
  {
   "cell_type": "code",
   "execution_count": null,
   "metadata": {},
   "outputs": [],
   "source": []
  }
 ],
 "metadata": {
  "kernelspec": {
   "display_name": "Python 3",
   "language": "python",
   "name": "python3"
  },
  "language_info": {
   "codemirror_mode": {
    "name": "ipython",
    "version": 3
   },
   "file_extension": ".py",
   "mimetype": "text/x-python",
   "name": "python",
   "nbconvert_exporter": "python",
   "pygments_lexer": "ipython3",
   "version": "3.7.3"
  }
 },
 "nbformat": 4,
 "nbformat_minor": 2
}
